{
 "cells": [
  {
   "cell_type": "code",
   "execution_count": 1,
   "metadata": {
    "ExecuteTime": {
     "end_time": "2018-06-10T12:18:26.093809Z",
     "start_time": "2018-06-10T12:18:22.997379Z"
    },
    "scrolled": true
   },
   "outputs": [
    {
     "name": "stderr",
     "output_type": "stream",
     "text": [
      "/Users/xuhuimin/anaconda3/lib/python3.6/site-packages/statsmodels/compat/pandas.py:56: FutureWarning: The pandas.core.datetools module is deprecated and will be removed in a future version. Please use the pandas.tseries module instead.\n",
      "  from pandas.core import datetools\n"
     ]
    }
   ],
   "source": [
    "import pandas as pd\n",
    "from glob import glob\n",
    "import itertools\n",
    "from collections import Counter\n",
    "import numpy as np\n",
    "import math\n",
    "import matplotlib.pylab as plt\n",
    "import os\n",
    "import networkx as nx\n",
    "from pypinyin import lazy_pinyin\n",
    "import sys\n",
    "from collections import defaultdict, Counter\n",
    "import networkx as nx\n",
    "import pylab as plt\n",
    "import matplotlib.cm as cm\n",
    "import statsmodels.api as sm\n",
    "from os import listdir\n",
    "from scipy.stats.stats import pearsonr\n",
    "import json\n",
    "import random\n",
    "from copy import deepcopy\n",
    "import time\n",
    "import scipy as sp\n",
    "from scipy.sparse import csr_matrix\n",
    "import matplotlib.cm as cm\n",
    "from numpy.random import choice\n",
    "from sklearn import manifold\n",
    "import operator\n",
    "from datetime import datetime as dt\n",
    "import matplotlib.mlab as mlab\n",
    "from scipy.stats import norm\n",
    "import re\n",
    "from scipy import stats\n",
    "from scipy.spatial import Voronoi\n",
    "from scipy import sparse\n",
    "from sklearn.metrics.pairwise import cosine_similarity\n",
    "import multiprocessing\n",
    "import scipy.stats\n",
    "import logging\n",
    "from sklearn.preprocessing import LabelEncoder\n",
    "import statsmodels.formula.api as smf"
   ]
  },
  {
   "cell_type": "markdown",
   "metadata": {
    "heading_collapsed": true
   },
   "source": [
    "# media-centric & audience-centric"
   ]
  },
  {
   "cell_type": "code",
   "execution_count": null,
   "metadata": {
    "hidden": true
   },
   "outputs": [],
   "source": []
  },
  {
   "cell_type": "code",
   "execution_count": 10,
   "metadata": {
    "ExecuteTime": {
     "end_time": "2018-05-19T11:56:23.362262Z",
     "start_time": "2018-05-19T11:56:22.528867Z"
    },
    "hidden": true,
    "scrolled": true
   },
   "outputs": [
    {
     "name": "stderr",
     "output_type": "stream",
     "text": [
      "/Users/xuhuimin/anaconda3/lib/python3.6/site-packages/IPython/core/interactiveshell.py:2698: DtypeWarning: Columns (0) have mixed types. Specify dtype option on import or set low_memory=False.\n",
      "  interactivity=interactivity, compiler=compiler, result=result)\n"
     ]
    }
   ],
   "source": [
    "node=pd.read_csv('./node.csv',names=['user_id','app_name'],index_col=0)"
   ]
  },
  {
   "cell_type": "code",
   "execution_count": 14,
   "metadata": {
    "ExecuteTime": {
     "end_time": "2018-05-19T12:01:58.956437Z",
     "start_time": "2018-05-19T12:01:58.770453Z"
    },
    "hidden": true,
    "scrolled": true
   },
   "outputs": [],
   "source": [
    "app_reach=node['app_name'].value_counts().reset_index(name='count')"
   ]
  },
  {
   "cell_type": "code",
   "execution_count": 15,
   "metadata": {
    "ExecuteTime": {
     "end_time": "2018-05-19T12:02:23.406746Z",
     "start_time": "2018-05-19T12:02:23.402142Z"
    },
    "hidden": true
   },
   "outputs": [],
   "source": [
    "app_reach['reach']=app_reach['count']/100000"
   ]
  },
  {
   "cell_type": "code",
   "execution_count": 33,
   "metadata": {
    "ExecuteTime": {
     "end_time": "2018-05-19T12:31:43.271233Z",
     "start_time": "2018-05-19T12:31:43.266208Z"
    },
    "hidden": true
   },
   "outputs": [
    {
     "data": {
      "text/plain": [
       "266"
      ]
     },
     "execution_count": 33,
     "metadata": {},
     "output_type": "execute_result"
    }
   ],
   "source": [
    "len(app_reach)"
   ]
  },
  {
   "cell_type": "code",
   "execution_count": null,
   "metadata": {
    "hidden": true
   },
   "outputs": [],
   "source": []
  },
  {
   "cell_type": "code",
   "execution_count": 39,
   "metadata": {
    "ExecuteTime": {
     "end_time": "2018-05-19T13:06:52.244140Z",
     "start_time": "2018-05-19T13:06:52.132743Z"
    },
    "hidden": true
   },
   "outputs": [],
   "source": [
    "app_df = pd.read_csv('./observed_value.csv',names=['node1','node2','app_obs','z_score','pair'])\n",
    "app_df = app_df[['node1','node2','app_obs']]\n",
    "\n",
    "app_df['app_obs']=app_df['app_obs']/100000\n",
    "\n",
    "diction=dict(app_reach[['index','reach']].values)\n",
    "app_df['app_exp']=app_df['node1'].apply(lambda x: diction[x]\n",
    "                                     if x in diction\n",
    "                                       else np.nan)*app_df['node2'].apply(lambda x: diction[x]\n",
    "                                                                        if x in diction\n",
    "                                                                        else np.nan)"
   ]
  },
  {
   "cell_type": "code",
   "execution_count": 47,
   "metadata": {
    "ExecuteTime": {
     "end_time": "2018-05-19T13:17:44.194604Z",
     "start_time": "2018-05-19T13:17:44.188188Z"
    },
    "hidden": true
   },
   "outputs": [
    {
     "data": {
      "text/plain": [
       "1699"
      ]
     },
     "execution_count": 47,
     "metadata": {},
     "output_type": "execute_result"
    }
   ],
   "source": [
    "len(app_df[app_df['app_obs']<app_df['app_exp']])"
   ]
  },
  {
   "cell_type": "code",
   "execution_count": 46,
   "metadata": {
    "ExecuteTime": {
     "end_time": "2018-05-19T13:17:33.269352Z",
     "start_time": "2018-05-19T13:17:33.262202Z"
    },
    "hidden": true
   },
   "outputs": [
    {
     "data": {
      "text/plain": [
       "26834"
      ]
     },
     "execution_count": 46,
     "metadata": {},
     "output_type": "execute_result"
    }
   ],
   "source": [
    "len(app_df[app_df['app_obs']>app_df['app_exp']])"
   ]
  },
  {
   "cell_type": "code",
   "execution_count": 48,
   "metadata": {
    "ExecuteTime": {
     "end_time": "2018-05-19T13:19:45.952228Z",
     "start_time": "2018-05-19T13:19:45.947433Z"
    },
    "hidden": true
   },
   "outputs": [],
   "source": [
    "app_df_act=app_df[app_df['app_obs']>app_df['app_exp']]"
   ]
  },
  {
   "cell_type": "code",
   "execution_count": 49,
   "metadata": {
    "ExecuteTime": {
     "end_time": "2018-05-19T13:19:55.863926Z",
     "start_time": "2018-05-19T13:19:55.853376Z"
    },
    "hidden": true
   },
   "outputs": [
    {
     "data": {
      "text/html": [
       "<div>\n",
       "<style>\n",
       "    .dataframe thead tr:only-child th {\n",
       "        text-align: right;\n",
       "    }\n",
       "\n",
       "    .dataframe thead th {\n",
       "        text-align: left;\n",
       "    }\n",
       "\n",
       "    .dataframe tbody tr th {\n",
       "        vertical-align: top;\n",
       "    }\n",
       "</style>\n",
       "<table border=\"1\" class=\"dataframe\">\n",
       "  <thead>\n",
       "    <tr style=\"text-align: right;\">\n",
       "      <th></th>\n",
       "      <th>node1</th>\n",
       "      <th>node2</th>\n",
       "      <th>app_obs</th>\n",
       "      <th>app_exp</th>\n",
       "    </tr>\n",
       "  </thead>\n",
       "  <tbody>\n",
       "    <tr>\n",
       "      <th>0</th>\n",
       "      <td>手机腾讯网</td>\n",
       "      <td>微信</td>\n",
       "      <td>0.71372</td>\n",
       "      <td>0.577218</td>\n",
       "    </tr>\n",
       "    <tr>\n",
       "      <th>1</th>\n",
       "      <td>QQ</td>\n",
       "      <td>微信</td>\n",
       "      <td>0.73178</td>\n",
       "      <td>0.595340</td>\n",
       "    </tr>\n",
       "    <tr>\n",
       "      <th>2</th>\n",
       "      <td>微信</td>\n",
       "      <td>熊猫桌面</td>\n",
       "      <td>0.02048</td>\n",
       "      <td>0.015567</td>\n",
       "    </tr>\n",
       "    <tr>\n",
       "      <th>3</th>\n",
       "      <td>微信</td>\n",
       "      <td>新浪微博</td>\n",
       "      <td>0.37542</td>\n",
       "      <td>0.300853</td>\n",
       "    </tr>\n",
       "    <tr>\n",
       "      <th>4</th>\n",
       "      <td>iTunes</td>\n",
       "      <td>微信</td>\n",
       "      <td>0.16789</td>\n",
       "      <td>0.128618</td>\n",
       "    </tr>\n",
       "  </tbody>\n",
       "</table>\n",
       "</div>"
      ],
      "text/plain": [
       "    node1 node2  app_obs   app_exp\n",
       "0   手机腾讯网    微信  0.71372  0.577218\n",
       "1      QQ    微信  0.73178  0.595340\n",
       "2      微信  熊猫桌面  0.02048  0.015567\n",
       "3      微信  新浪微博  0.37542  0.300853\n",
       "4  iTunes    微信  0.16789  0.128618"
      ]
     },
     "execution_count": 49,
     "metadata": {},
     "output_type": "execute_result"
    }
   ],
   "source": [
    "app_df_act.head()"
   ]
  },
  {
   "cell_type": "code",
   "execution_count": 50,
   "metadata": {
    "ExecuteTime": {
     "end_time": "2018-05-19T13:20:35.120642Z",
     "start_time": "2018-05-19T13:20:34.179987Z"
    },
    "hidden": true
   },
   "outputs": [],
   "source": [
    "G=nx.Graph()\n",
    "for i in app_df_act.index:\n",
    "    G.add_edge(app_df_act.node1[i],app_df_act.node2[i], weight=app_df_act.app_obs[i])"
   ]
  },
  {
   "cell_type": "code",
   "execution_count": 51,
   "metadata": {
    "ExecuteTime": {
     "end_time": "2018-05-19T13:22:21.775483Z",
     "start_time": "2018-05-19T13:22:21.771805Z"
    },
    "hidden": true
   },
   "outputs": [],
   "source": [
    "degree_score=nx.degree_centrality(G)"
   ]
  },
  {
   "cell_type": "code",
   "execution_count": 67,
   "metadata": {
    "ExecuteTime": {
     "end_time": "2018-05-19T13:41:40.389157Z",
     "start_time": "2018-05-19T13:41:39.775907Z"
    },
    "hidden": true,
    "scrolled": true
   },
   "outputs": [
    {
     "data": {
      "image/png": "[encoded data removed]",
      "text/plain": [
       "<matplotlib.figure.Figure at 0x1c23ffc518>"
      ]
     },
     "metadata": {},
     "output_type": "display_data"
    }
   ],
   "source": [
    "def powerlawplot (data):\n",
    "    x=np.array(range(len(data)))+1\n",
    "    y=np.array(sorted(data,reverse=True))\n",
    "    x1=np.log(x)\n",
    "    y1=np.log(y+10**(-10))\n",
    "    xx=sm.add_constant(x1,prepend=True)\n",
    "    res=sm.OLS(y1,xx).fit()\n",
    "    constant,beta=res.params\n",
    "    r2=res.rsquared\n",
    "    plt.plot(x,y, \"o\",color='b',markersize=5, label='$\\\\alpha = $' + str(np.round(beta,2)) + ', ' + '$R\\; square = $' + str(np.round(r2, 2)))\n",
    "    plt.plot(x, np.exp(constant+x1*beta),\"red\")\n",
    "    plt.legend(fontsize=15)\n",
    "    plt.xscale('log'); \n",
    "    plt.yscale('log')\n",
    "    plt.xlabel(r'$Rank$', fontsize = 20)\n",
    "    plt.ylabel(r'$Degree\\;Centrality$', fontsize = 20)\n",
    "\n",
    "    \n",
    "#     plt.savefig('./figureall.png',dpi=100)\n",
    "    plt.show()\n",
    "powerlawplot(sorted(list(degree_score.values())[:100],reverse=True))"
   ]
  },
  {
   "cell_type": "code",
   "execution_count": 69,
   "metadata": {
    "ExecuteTime": {
     "end_time": "2018-05-19T13:42:48.433306Z",
     "start_time": "2018-05-19T13:42:47.379428Z"
    },
    "hidden": true
   },
   "outputs": [
    {
     "data": {
      "image/png": "[encoded data removed]",
      "text/plain": [
       "<matplotlib.figure.Figure at 0x1a1b2afb38>"
      ]
     },
     "metadata": {},
     "output_type": "display_data"
    }
   ],
   "source": [
    "fig = plt.figure(figsize=(12, 4),facecolor='white')\n",
    "\n",
    "ax = fig.add_subplot(131)\n",
    "x=np.array(range(len(app_reach)))+1\n",
    "y=np.array(sorted(app_reach['reach'],reverse=True))\n",
    "plt.plot(x,y, \"o\",color='b')\n",
    "plt.xlabel(r'$Rank$', fontsize = 20)\n",
    "plt.ylabel('Reach(%)', fontsize = 20)\n",
    "ax.text(0.8, 0.9,'A',horizontalalignment='left',verticalalignment='top',transform=ax.transAxes)\n",
    "\n",
    "ax = fig.add_subplot(132)\n",
    "def powerlawplot (data):\n",
    "    x=np.array(range(len(data)))+1\n",
    "    y=np.array(sorted(data,reverse=True))\n",
    "    x1=np.log(x)\n",
    "    y1=np.log(y+10**(-10))\n",
    "    xx=sm.add_constant(x1,prepend=True)\n",
    "    res=sm.OLS(y1,xx).fit()\n",
    "    constant,beta=res.params\n",
    "    r2=res.rsquared\n",
    "    plt.plot(x,y, \"o\",color='b',markersize=5, label='$\\\\alpha = $' + str(np.round(beta,2)) + ', ' + '$R\\; square = $' + str(np.round(r2, 2)))\n",
    "    plt.plot(x, np.exp(constant+x1*beta),\"red\")\n",
    "    plt.legend(fontsize=15)\n",
    "    plt.xscale('log'); \n",
    "    plt.yscale('log')\n",
    "    plt.xlabel(r'$Rank$', fontsize = 20)\n",
    "    plt.ylabel('Reach(%)', fontsize = 20)\n",
    "    plt.legend(loc=2,frameon=False)\n",
    "    ax.text(0.8, 0.9,'B',horizontalalignment='left',verticalalignment='top',transform=ax.transAxes)\n",
    "powerlawplot(list(app_reach['reach'])[:100])\n",
    "\n",
    "\n",
    "ax = fig.add_subplot(133)\n",
    "x=np.array(range(len(degree_score)))+1\n",
    "y=np.array(sorted(degree_score.values(),reverse=True))\n",
    "plt.plot(x,y, \"o\",color='b')\n",
    "plt.xlabel(r'$Rank$', fontsize = 20)\n",
    "plt.ylabel(r'$Degree\\;Centrality$', fontsize = 20)\n",
    "ax.text(0.8, 0.9,'C',horizontalalignment='left',verticalalignment='top',transform=ax.transAxes)\n",
    "\n",
    "\n",
    "\n",
    "\n",
    "plt.tight_layout()\n",
    "plt.savefig('./picture/app_reach.png',dpi=100)\n",
    "\n",
    "plt.show()"
   ]
  },
  {
   "cell_type": "code",
   "execution_count": null,
   "metadata": {
    "hidden": true
   },
   "outputs": [],
   "source": []
  },
  {
   "cell_type": "markdown",
   "metadata": {
    "heading_collapsed": true
   },
   "source": [
    "# radius of gyration"
   ]
  },
  {
   "cell_type": "code",
   "execution_count": 105,
   "metadata": {
    "ExecuteTime": {
     "end_time": "2018-05-29T13:31:55.106672Z",
     "start_time": "2018-05-29T13:31:55.062178Z"
    },
    "code_folding": [],
    "hidden": true
   },
   "outputs": [],
   "source": [
    "def radius_of_gyration(positions):\n",
    "    \"\"\"\n",
    "    position : tuple\n",
    "        A tuple (lat, lon) with the latitude and longitude of the antenna,\n",
    "        encoded as floating point numbers.\n",
    "\n",
    "    Returns the radius of gyration, the *equivalent distance* of the mass from\n",
    "    the center of gravity, for all visited places. [GON2008]_\n",
    "\n",
    "    References\n",
    "    ----------\n",
    "    .. [GON2008] Gonzalez, M. C., Hidalgo, C. A., & Barabasi, A. L. (2008).\n",
    "        Understanding individual human mobility patterns. Nature, 453(7196),\n",
    "        779-782.\n",
    "    \"\"\"\n",
    "    d = Counter(positions)\n",
    "    sum_weights = sum(d.values())\n",
    "    positions = list(d.keys())  # Unique positions\n",
    "\n",
    "    if len(positions) == 0:\n",
    "        return None\n",
    "\n",
    "    barycenter = [0, 0]\n",
    "    for pos, t in d.items():\n",
    "        barycenter[0] += pos[0] * t\n",
    "        barycenter[1] += pos[1] * t\n",
    "\n",
    "    barycenter[0] /= sum_weights\n",
    "    barycenter[1] /= sum_weights\n",
    "\n",
    "    r = 0.\n",
    "    for pos, t in d.items():\n",
    "        r += float(t) / sum_weights * \\\n",
    "             great_circle_distance(barycenter, pos) ** 2\n",
    "    return math.sqrt(r)\n",
    "\n",
    "\n",
    "def great_circle_distance(pt1, pt2):\n",
    "    \"\"\"\n",
    "    Return the great-circle distance in kilometers between two points,\n",
    "    defined by a tuple (lat, lon).\n",
    "    Examples\n",
    "    --------\n",
    "    >>> brussels = (50.8503, 4.3517)\n",
    "    >>> paris = (48.8566, 2.3522)\n",
    "    >>> great_circle_distance(brussels, paris)\n",
    "    263.9754164080347\n",
    "    \"\"\"\n",
    "    r = 6371.\n",
    "\n",
    "    delta_latitude = math.radians(pt1[0] - pt2[0])\n",
    "    delta_longitude = math.radians(pt1[1] - pt2[1])\n",
    "    latitude1 = math.radians(pt1[0])\n",
    "    latitude2 = math.radians(pt2[0])\n",
    "\n",
    "    a = math.sin(delta_latitude / 2) ** 2 + math.cos(latitude1) * math.cos(latitude2) * math.sin(\n",
    "        delta_longitude / 2) ** 2\n",
    "    return r * 2. * math.asin(math.sqrt(a))\n"
   ]
  },
  {
   "cell_type": "code",
   "execution_count": 106,
   "metadata": {
    "ExecuteTime": {
     "end_time": "2018-05-29T13:32:15.683806Z",
     "start_time": "2018-05-29T13:32:15.680582Z"
    },
    "hidden": true
   },
   "outputs": [],
   "source": []
  },
  {
   "cell_type": "markdown",
   "metadata": {
    "heading_collapsed": true
   },
   "source": [
    "# entropy"
   ]
  },
  {
   "cell_type": "code",
   "execution_count": 2,
   "metadata": {
    "ExecuteTime": {
     "end_time": "2018-05-30T06:34:24.529741Z",
     "start_time": "2018-05-30T06:34:24.397797Z"
    },
    "code_folding": [],
    "hidden": true,
    "scrolled": false
   },
   "outputs": [],
   "source": [
    "def contains(small, big):\n",
    "    for i in range(len(big) - len(small) + 1):\n",
    "        if (big[i:i + len(small)] == small).all():\n",
    "            return True\n",
    "    return False\n",
    "\n",
    "\n",
    "def actual_entropy(l):\n",
    "   \n",
    "    n = len(l)\n",
    "\n",
    "    sequence = np.array([l[0]])\n",
    "    sum_gamma = 0\n",
    "\n",
    "    for i in range(1, n):\n",
    "        for j in range(i + 1, n + 1):\n",
    "            s = l[i:j]\n",
    "            if contains(s, sequence) != True:\n",
    "                sum_gamma += len(s)\n",
    "                sequence = np.append(sequence, l[i])\n",
    "                break\n",
    "\n",
    "    if sum_gamma == 0 or n == 0:\n",
    "        return 0\n",
    "    else:\n",
    "        ae = 1 / (sum_gamma / n) * math.log(n)\n",
    "        return ae\n",
    "    \n",
    "def entropy(data):\n",
    "    p_data = np.array(list(Counter(data).values())) / len(data)  # calculates the probabilities\n",
    "    entropy = scipy.stats.entropy(p_data)  # input probabilities to get the entropy\n",
    "    return entropy\n",
    "\n",
    "\n",
    "def radius_of_gyration(positions):\n",
    "    \"\"\"\n",
    "    position : tuple\n",
    "        A tuple (lat, lon) with the latitude and longitude of the antenna,\n",
    "        encoded as floating point numbers.\n",
    "\n",
    "    Returns the radius of gyration, the *equivalent distance* of the mass from\n",
    "    the center of gravity, for all visited places. [GON2008]_\n",
    "\n",
    "    References\n",
    "    ----------\n",
    "    .. [GON2008] Gonzalez, M. C., Hidalgo, C. A., & Barabasi, A. L. (2008).\n",
    "        Understanding individual human mobility patterns. Nature, 453(7196),\n",
    "        779-782.\n",
    "    \"\"\"\n",
    "    d = Counter(positions)\n",
    "    sum_weights = sum(d.values())\n",
    "    positions = list(d.keys())  # Unique positions\n",
    "\n",
    "    if len(positions) == 0:\n",
    "        return None\n",
    "\n",
    "    barycenter = [0, 0]\n",
    "    for pos, t in d.items():\n",
    "        barycenter[0] += pos[0] * t\n",
    "        barycenter[1] += pos[1] * t\n",
    "\n",
    "    barycenter[0] /= sum_weights\n",
    "    barycenter[1] /= sum_weights\n",
    "\n",
    "    r = 0.\n",
    "    for pos, t in d.items():\n",
    "        r += float(t) / sum_weights * \\\n",
    "             great_circle_distance(barycenter, pos) ** 2\n",
    "    return math.sqrt(r)\n",
    "\n",
    "\n",
    "def great_circle_distance(pt1, pt2):\n",
    "    \"\"\"\n",
    "    Return the great-circle distance in kilometers between two points,\n",
    "    defined by a tuple (lat, lon).\n",
    "    Examples\n",
    "    --------\n",
    "    >>> brussels = (50.8503, 4.3517)\n",
    "    >>> paris = (48.8566, 2.3522)\n",
    "    >>> great_circle_distance(brussels, paris)\n",
    "    263.9754164080347\n",
    "    \"\"\"\n",
    "    r = 6371.\n",
    "\n",
    "    delta_latitude = math.radians(pt1[0] - pt2[0])\n",
    "    delta_longitude = math.radians(pt1[1] - pt2[1])\n",
    "    latitude1 = math.radians(pt1[0])\n",
    "    latitude2 = math.radians(pt2[0])\n",
    "\n",
    "    a = math.sin(delta_latitude / 2) ** 2 + math.cos(latitude1) * math.cos(latitude2) * math.sin(\n",
    "        delta_longitude / 2) ** 2\n",
    "    return r * 2. * math.asin(math.sqrt(a))\n"
   ]
  },
  {
   "cell_type": "code",
   "execution_count": 5,
   "metadata": {
    "ExecuteTime": {
     "end_time": "2018-05-30T06:41:50.343079Z",
     "start_time": "2018-05-30T06:41:45.230321Z"
    },
    "hidden": true
   },
   "outputs": [],
   "source": [
    "filenames=glob('./siteexample1/allusers_all/*.csv')\n",
    "\n",
    "error=[]\n",
    "user_entropy=[]\n",
    "for file in filenames:\n",
    "    try:\n",
    "\n",
    "        uid = file.split('/')[-1].split('.')[0]\n",
    "        userdata=pd.read_csv(file,names=['user_id','longtitude','latitude','app_name','app_type_name','start_time'])\n",
    "\n",
    "\n",
    "        userdata['start_time_hour'] = userdata['start_time'].apply(lambda x: int(x / 10000))\n",
    "        userdata = userdata[['start_time_hour', 'longtitude', 'latitude']].dropna()\n",
    "        userdata['location'] = (userdata['longtitude'].astype('str') + ',' + userdata['latitude'].astype('str')).values\n",
    "        N = len(set(userdata['location']))\n",
    "        E = entropy(userdata['location'])\n",
    "        locations = [tuple(loc) for loc in userdata[['latitude', 'longtitude']].dropna().values]\n",
    "        rg=radius_of_gyration(list(locations))\n",
    "        # random sample\n",
    "        hour_locations = userdata.groupby('start_time_hour')['location'].apply(\n",
    "        lambda x: random.sample(list(x), 1)[0]).values\n",
    "        AE = (actual_entropy(hour_locations))\n",
    "        user_entropy.append([uid, N, E, AE, rg]) \n",
    "    \n",
    "    except Exception as e:\n",
    "        error.append([file,e])\n",
    "        pass\n",
    "        \n",
    "user_entropy_df = pd.DataFrame(user_entropy, columns=['uid', 'N', 'E', 'AE','rg'])\n",
    "user_entropy_df.to_csv('./user_entropy.csv', index=False)\n",
    "error_df=pd.DataFrame(error,columns=['file','e'])\n",
    "error_df.to_csv('./error.csv',index=False)"
   ]
  },
  {
   "cell_type": "code",
   "execution_count": 6,
   "metadata": {
    "ExecuteTime": {
     "end_time": "2018-05-30T06:43:57.356966Z",
     "start_time": "2018-05-30T06:43:57.232294Z"
    },
    "hidden": true
   },
   "outputs": [],
   "source": [
    "filenames=glob('./siteexample1/allusers_all/*.csv')\n",
    "\n",
    "error=[]\n",
    "user_entropy=[]\n",
    "for file in filenames:\n",
    "    try:\n",
    "        uid = file.split('/')[-1].split('.')[0]\n",
    "        userdata=pd.read_csv(file,names=['user_id','longtitude','latitude','app_name','app_type_name','start_time'])\n",
    "\n",
    "\n",
    "        userdata['start_time_hour'] = userdata['start_time'].apply(lambda x: int(x / 10000))\n",
    "        userdata=userdata[userdata['app_name']!='其他']\n",
    "        A_N = len(set(userdata['app_name']))\n",
    "        A_E = entropy(userdata['app_name'])\n",
    "\n",
    "        # random sample\n",
    "        hour_apps = userdata.groupby('start_time_hour')['app_name'].apply(\n",
    "        lambda x: random.sample(list(x), 1)[0]).values\n",
    "        A_AE = (actual_entropy(hour_apps))\n",
    "        user_entropy.append([uid, A_N, A_E, A_AE])  \n",
    "    \n",
    "    except Exception as e:\n",
    "        error.append([file,e])\n",
    "        pass\n",
    "\n",
    "user_entropy_df = pd.DataFrame(user_entropy, columns=['uid', 'A_N', 'A_E', 'A_AE'])\n",
    "user_entropy_df.to_csv('./user_aentropy.csv', index=False)\n",
    "error_df=pd.DataFrame(error,columns=['file','e'])\n",
    "error_df.to_csv('./A_error.csv',index=False)"
   ]
  },
  {
   "cell_type": "code",
   "execution_count": null,
   "metadata": {
    "hidden": true
   },
   "outputs": [],
   "source": []
  },
  {
   "cell_type": "code",
   "execution_count": null,
   "metadata": {
    "hidden": true
   },
   "outputs": [],
   "source": []
  },
  {
   "cell_type": "code",
   "execution_count": null,
   "metadata": {
    "hidden": true
   },
   "outputs": [],
   "source": []
  },
  {
   "cell_type": "code",
   "execution_count": null,
   "metadata": {
    "hidden": true
   },
   "outputs": [],
   "source": []
  },
  {
   "cell_type": "code",
   "execution_count": 2,
   "metadata": {
    "ExecuteTime": {
     "end_time": "2018-05-25T03:05:24.121277Z",
     "start_time": "2018-05-25T03:04:04.940489Z"
    },
    "hidden": true
   },
   "outputs": [],
   "source": [
    "high_behavior=pd.read_csv('./category/high_behavior.csv',names=['user_id','longtitude','latitude','app_name','app_type_name','start_time'])\n",
    "high_behavior['location']=high_behavior['longtitude'].astype('str')+' '+high_behavior['longtitude'].astype('str')\n",
    "high_behavior=high_behavior[high_behavior['location'].astype('str')!='nan,nan']\n",
    "high_behavior=high_behavior[['user_id','location']]\n",
    "\n",
    "users=high_behavior['user_id'].unique()\n",
    "\n",
    "sunc = []\n",
    " \n",
    "for user in users:    \n",
    "    userdata=high_behavior[high_behavior['user_id']==user]    \n",
    "    p_data = np.array(list(Counter(userdata['location']).values())) / len(userdata['location'])\n",
    "    entropy = scipy.stats.entropy(p_data) \n",
    "    sunc.append(entropy)\n",
    "\n",
    "user_entropy = pd.DataFrame(users, columns=['user_id'])\n",
    "user_entropy['sunc'] = sunc\n",
    "\n",
    "user_entropy.to_csv('./category/select_loc_entropy.csv', index=False, header=False,mode='a+')"
   ]
  },
  {
   "cell_type": "code",
   "execution_count": 3,
   "metadata": {
    "ExecuteTime": {
     "end_time": "2018-05-25T03:06:36.384339Z",
     "start_time": "2018-05-25T03:05:36.672590Z"
    },
    "hidden": true
   },
   "outputs": [],
   "source": [
    "low_behavior=pd.read_csv('./category/low_behavior.csv',names=['user_id','longtitude','latitude','app_name','app_type_name','start_time'])\n",
    "low_behavior['location']=low_behavior['longtitude'].astype('str')+' '+low_behavior['longtitude'].astype('str')\n",
    "low_behavior=low_behavior[low_behavior['location'].astype('str')!='nan,nan']\n",
    "low_behavior=low_behavior[['user_id','location']]\n",
    "\n",
    "users=low_behavior['user_id'].unique()\n",
    "\n",
    "sunc = []\n",
    " \n",
    "for user in users:    \n",
    "    userdata=low_behavior[low_behavior['user_id']==user]    \n",
    "    p_data = np.array(list(Counter(userdata['location']).values())) / len(userdata['location'])\n",
    "    entropy = scipy.stats.entropy(p_data) \n",
    "    sunc.append(entropy)\n",
    "\n",
    "user_entropy = pd.DataFrame(users, columns=['user_id'])\n",
    "user_entropy['sunc'] = sunc\n",
    "\n",
    "user_entropy.to_csv('./category/select_loc_entropy.csv', index=False, header=False,mode='a+')"
   ]
  },
  {
   "cell_type": "code",
   "execution_count": 28,
   "metadata": {
    "ExecuteTime": {
     "end_time": "2018-05-24T13:47:54.482337Z",
     "start_time": "2018-05-24T13:47:20.158156Z"
    },
    "hidden": true
   },
   "outputs": [],
   "source": [
    "high_behavior=pd.read_csv('./category/high_behavior.csv',names=['user_id','longtitude','latitude','app_name','app_type_name','start_time'])\n",
    "high_behavior=high_behavior[high_behavior['app_name']!='其他']\n",
    "high_behavior=high_behavior[['user_id','app_name']]\n",
    "\n",
    "users=high_behavior['user_id'].unique()\n",
    "\n",
    "sunc = []\n",
    " \n",
    "for user in users:    \n",
    "    userdata=high_behavior[high_behavior['user_id']==user]    \n",
    "    p_data = np.array(list(Counter(userdata['app_name']).values())) / len(userdata['app_name'])\n",
    "    entropy = scipy.stats.entropy(p_data) \n",
    "    sunc.append(entropy)\n",
    "\n",
    "user_entropy = pd.DataFrame(users, columns=['user_id'])\n",
    "user_entropy['sunc'] = sunc\n",
    "\n",
    "user_entropy.to_csv('./category/high_entropy.csv', index=False, header=True)"
   ]
  },
  {
   "cell_type": "code",
   "execution_count": 29,
   "metadata": {
    "ExecuteTime": {
     "end_time": "2018-05-24T13:48:31.510384Z",
     "start_time": "2018-05-24T13:48:04.011251Z"
    },
    "hidden": true
   },
   "outputs": [],
   "source": [
    "low_behavior=pd.read_csv('./category/low_behavior.csv',names=['user_id','longtitude','latitude','app_name','app_type_name','start_time'])\n",
    "low_behavior=low_behavior[low_behavior['app_name']!='其他']\n",
    "low_behavior=low_behavior[['user_id','app_name']]\n",
    "\n",
    "users=low_behavior['user_id'].unique()\n",
    "\n",
    "sunc = []\n",
    " \n",
    "for user in users:    \n",
    "    userdata=low_behavior[low_behavior['user_id']==user]    \n",
    "    p_data = np.array(list(Counter(userdata['app_name']).values())) / len(userdata['app_name'])\n",
    "    entropy = scipy.stats.entropy(p_data) \n",
    "    sunc.append(entropy)\n",
    "\n",
    "user_entropy = pd.DataFrame(users, columns=['user_id'])\n",
    "user_entropy['sunc'] = sunc\n",
    "\n",
    "user_entropy.to_csv('./category/low_entropy.csv', index=False, header=True)"
   ]
  },
  {
   "cell_type": "code",
   "execution_count": null,
   "metadata": {
    "hidden": true
   },
   "outputs": [],
   "source": []
  },
  {
   "cell_type": "code",
   "execution_count": null,
   "metadata": {
    "hidden": true
   },
   "outputs": [],
   "source": []
  },
  {
   "cell_type": "markdown",
   "metadata": {},
   "source": [
    "# clean data"
   ]
  },
  {
   "cell_type": "code",
   "execution_count": 2,
   "metadata": {
    "ExecuteTime": {
     "end_time": "2018-06-05T02:29:42.216560Z",
     "start_time": "2018-06-05T02:29:41.621516Z"
    },
    "scrolled": true
   },
   "outputs": [
    {
     "name": "stderr",
     "output_type": "stream",
     "text": [
      "/Users/xuhuimin/anaconda3/lib/python3.6/site-packages/IPython/core/interactiveshell.py:2698: DtypeWarning: Columns (4) have mixed types. Specify dtype option on import or set low_memory=False.\n",
      "  interactivity=interactivity, compiler=compiler, result=result)\n"
     ]
    }
   ],
   "source": [
    "# clean data\n",
    "basename_clean=pd.read_csv('./basename_clean.csv')\n",
    "\n",
    "user_entropy=pd.read_csv('./user_entropy.csv')\n",
    "\n",
    "user_aentropy=pd.read_csv('./user_aentropy.csv')\n",
    "\n",
    "for i in ['N','E','AE','rg']:\n",
    "    diction=dict(user_entropy[['uid',i]].values)\n",
    "    basename_clean[i]=basename_clean['user_id'].apply(lambda x: diction[x]\n",
    "                                                 if x in diction\n",
    "                                                 else np.nan)\n",
    "\n",
    "for i in ['A_N','A_E','A_AE']:\n",
    "    diction=dict(user_aentropy[['uid',i]].values)\n",
    "    basename_clean[i]=basename_clean['user_id'].apply(lambda x: diction[x]\n",
    "                                                 if x in diction\n",
    "                                                 else np.nan)\n",
    "\n",
    "att_median=basename_clean['att_median'].median()\n",
    "loc_median=basename_clean['loc_median'].median()\n",
    "\n",
    "high_low=basename_clean[(basename_clean['att_median']>att_median)&(basename_clean['loc_median']<=loc_median)].index\n",
    "basename_clean.ix[high_low,'category']='high_low'\n",
    "\n",
    "low_low=basename_clean[(basename_clean['att_median']<=att_median)&(basename_clean['loc_median']<=loc_median)].index\n",
    "basename_clean.ix[low_low,'category']='low_low'\n",
    "\n",
    "low_high=basename_clean[(basename_clean['att_median']<=att_median)&(basename_clean['loc_median']>loc_median)].index\n",
    "basename_clean.ix[low_high,'category']='low_high'\n",
    "\n",
    "high_high=basename_clean[(basename_clean['att_median']>att_median)&(basename_clean['loc_median']>loc_median)].index\n",
    "basename_clean.ix[high_high,'category']='high_high'\n",
    "\n",
    "basename_clean.to_csv('./basename_clean.csv',index=False)"
   ]
  },
  {
   "cell_type": "code",
   "execution_count": 8,
   "metadata": {
    "ExecuteTime": {
     "end_time": "2018-06-10T12:48:40.190613Z",
     "start_time": "2018-06-10T12:48:39.433651Z"
    },
    "scrolled": false
   },
   "outputs": [
    {
     "name": "stderr",
     "output_type": "stream",
     "text": [
      "/Users/xuhuimin/anaconda3/lib/python3.6/site-packages/IPython/core/interactiveshell.py:2698: DtypeWarning: Columns (4) have mixed types. Specify dtype option on import or set low_memory=False.\n",
      "  interactivity=interactivity, compiler=compiler, result=result)\n"
     ]
    }
   ],
   "source": [
    "basename_clean=pd.read_csv('./basename_clean.csv')"
   ]
  },
  {
   "cell_type": "code",
   "execution_count": 9,
   "metadata": {
    "ExecuteTime": {
     "end_time": "2018-06-10T12:54:15.430342Z",
     "start_time": "2018-06-10T12:54:15.411901Z"
    }
   },
   "outputs": [],
   "source": [
    "rich=basename_clean[basename_clean.category=='high_low']"
   ]
  },
  {
   "cell_type": "code",
   "execution_count": 10,
   "metadata": {
    "ExecuteTime": {
     "end_time": "2018-06-10T12:54:23.735744Z",
     "start_time": "2018-06-10T12:54:23.335298Z"
    }
   },
   "outputs": [
    {
     "data": {
      "text/html": [
       "<table class=\"simpletable\">\n",
       "<caption>OLS Regression Results</caption>\n",
       "<tr>\n",
       "  <th>Dep. Variable:</th>       <td>loc_median</td>    <th>  R-squared:         </th> <td>   0.147</td> \n",
       "</tr>\n",
       "<tr>\n",
       "  <th>Model:</th>                   <td>OLS</td>       <th>  Adj. R-squared:    </th> <td>   0.146</td> \n",
       "</tr>\n",
       "<tr>\n",
       "  <th>Method:</th>             <td>Least Squares</td>  <th>  F-statistic:       </th> <td>   222.1</td> \n",
       "</tr>\n",
       "<tr>\n",
       "  <th>Date:</th>             <td>Sun, 10 Jun 2018</td> <th>  Prob (F-statistic):</th> <td>2.34e-219</td>\n",
       "</tr>\n",
       "<tr>\n",
       "  <th>Time:</th>                 <td>20:54:23</td>     <th>  Log-Likelihood:    </th> <td> -13449.</td> \n",
       "</tr>\n",
       "<tr>\n",
       "  <th>No. Observations:</th>      <td>  6449</td>      <th>  AIC:               </th> <td>2.691e+04</td>\n",
       "</tr>\n",
       "<tr>\n",
       "  <th>Df Residuals:</th>          <td>  6443</td>      <th>  BIC:               </th> <td>2.695e+04</td>\n",
       "</tr>\n",
       "<tr>\n",
       "  <th>Df Model:</th>              <td>     5</td>      <th>                     </th>     <td> </td>    \n",
       "</tr>\n",
       "<tr>\n",
       "  <th>Covariance Type:</th>      <td>nonrobust</td>    <th>                     </th>     <td> </td>    \n",
       "</tr>\n",
       "</table>\n",
       "<table class=\"simpletable\">\n",
       "<tr>\n",
       "         <td></td>           <th>coef</th>     <th>std err</th>      <th>t</th>      <th>P>|t|</th>  <th>[0.025</th>    <th>0.975]</th>  \n",
       "</tr>\n",
       "<tr>\n",
       "  <th>Intercept</th>      <td>    5.1164</td> <td>    0.105</td> <td>   48.913</td> <td> 0.000</td> <td>    4.911</td> <td>    5.321</td>\n",
       "</tr>\n",
       "<tr>\n",
       "  <th>house_price</th>    <td>-4.863e-06</td> <td> 1.65e-06</td> <td>   -2.954</td> <td> 0.003</td> <td>-8.09e-06</td> <td>-1.64e-06</td>\n",
       "</tr>\n",
       "<tr>\n",
       "  <th>terminal_price</th> <td>    0.0002</td> <td>  1.8e-05</td> <td>   13.131</td> <td> 0.000</td> <td>    0.000</td> <td>    0.000</td>\n",
       "</tr>\n",
       "<tr>\n",
       "  <th>fees</th>           <td>   -0.0003</td> <td>    0.000</td> <td>   -0.811</td> <td> 0.417</td> <td>   -0.001</td> <td>    0.000</td>\n",
       "</tr>\n",
       "<tr>\n",
       "  <th>rg</th>             <td>   -0.1324</td> <td>    0.005</td> <td>  -29.141</td> <td> 0.000</td> <td>   -0.141</td> <td>   -0.123</td>\n",
       "</tr>\n",
       "<tr>\n",
       "  <th>att_median</th>     <td>   -0.0048</td> <td>    0.001</td> <td>   -4.034</td> <td> 0.000</td> <td>   -0.007</td> <td>   -0.002</td>\n",
       "</tr>\n",
       "</table>\n",
       "<table class=\"simpletable\">\n",
       "<tr>\n",
       "  <th>Omnibus:</th>       <td>161.172</td> <th>  Durbin-Watson:     </th> <td>   1.977</td>\n",
       "</tr>\n",
       "<tr>\n",
       "  <th>Prob(Omnibus):</th> <td> 0.000</td>  <th>  Jarque-Bera (JB):  </th> <td>  81.971</td>\n",
       "</tr>\n",
       "<tr>\n",
       "  <th>Skew:</th>          <td> 0.026</td>  <th>  Prob(JB):          </th> <td>1.59e-18</td>\n",
       "</tr>\n",
       "<tr>\n",
       "  <th>Kurtosis:</th>      <td> 2.450</td>  <th>  Cond. No.          </th> <td>1.65e+05</td>\n",
       "</tr>\n",
       "</table>"
      ],
      "text/plain": [
       "<class 'statsmodels.iolib.summary.Summary'>\n",
       "\"\"\"\n",
       "                            OLS Regression Results                            \n",
       "==============================================================================\n",
       "Dep. Variable:             loc_median   R-squared:                       0.147\n",
       "Model:                            OLS   Adj. R-squared:                  0.146\n",
       "Method:                 Least Squares   F-statistic:                     222.1\n",
       "Date:                Sun, 10 Jun 2018   Prob (F-statistic):          2.34e-219\n",
       "Time:                        20:54:23   Log-Likelihood:                -13449.\n",
       "No. Observations:                6449   AIC:                         2.691e+04\n",
       "Df Residuals:                    6443   BIC:                         2.695e+04\n",
       "Df Model:                           5                                         \n",
       "Covariance Type:            nonrobust                                         \n",
       "==================================================================================\n",
       "                     coef    std err          t      P>|t|      [0.025      0.975]\n",
       "----------------------------------------------------------------------------------\n",
       "Intercept          5.1164      0.105     48.913      0.000       4.911       5.321\n",
       "house_price    -4.863e-06   1.65e-06     -2.954      0.003   -8.09e-06   -1.64e-06\n",
       "terminal_price     0.0002    1.8e-05     13.131      0.000       0.000       0.000\n",
       "fees              -0.0003      0.000     -0.811      0.417      -0.001       0.000\n",
       "rg                -0.1324      0.005    -29.141      0.000      -0.141      -0.123\n",
       "att_median        -0.0048      0.001     -4.034      0.000      -0.007      -0.002\n",
       "==============================================================================\n",
       "Omnibus:                      161.172   Durbin-Watson:                   1.977\n",
       "Prob(Omnibus):                  0.000   Jarque-Bera (JB):               81.971\n",
       "Skew:                           0.026   Prob(JB):                     1.59e-18\n",
       "Kurtosis:                       2.450   Cond. No.                     1.65e+05\n",
       "==============================================================================\n",
       "\n",
       "Warnings:\n",
       "[1] Standard Errors assume that the covariance matrix of the errors is correctly specified.\n",
       "[2] The condition number is large, 1.65e+05. This might indicate that there are\n",
       "strong multicollinearity or other numerical problems.\n",
       "\"\"\""
      ]
     },
     "execution_count": 10,
     "metadata": {},
     "output_type": "execute_result"
    }
   ],
   "source": [
    "reg = smf.ols('loc_median ~ house_price+terminal_price+fees+rg+att_median',\n",
    "               data = rich).fit()\n",
    "reg.summary()"
   ]
  },
  {
   "cell_type": "code",
   "execution_count": 20,
   "metadata": {
    "ExecuteTime": {
     "end_time": "2018-06-10T13:02:24.452058Z",
     "start_time": "2018-06-10T13:02:24.434052Z"
    }
   },
   "outputs": [],
   "source": [
    "poor=basename_clean[basename_clean.category=='low_high']"
   ]
  },
  {
   "cell_type": "code",
   "execution_count": 21,
   "metadata": {
    "ExecuteTime": {
     "end_time": "2018-06-10T13:02:25.648998Z",
     "start_time": "2018-06-10T13:02:25.613587Z"
    }
   },
   "outputs": [
    {
     "data": {
      "text/html": [
       "<table class=\"simpletable\">\n",
       "<caption>OLS Regression Results</caption>\n",
       "<tr>\n",
       "  <th>Dep. Variable:</th>       <td>loc_median</td>    <th>  R-squared:         </th> <td>   0.124</td> \n",
       "</tr>\n",
       "<tr>\n",
       "  <th>Model:</th>                   <td>OLS</td>       <th>  Adj. R-squared:    </th> <td>   0.124</td> \n",
       "</tr>\n",
       "<tr>\n",
       "  <th>Method:</th>             <td>Least Squares</td>  <th>  F-statistic:       </th> <td>   150.9</td> \n",
       "</tr>\n",
       "<tr>\n",
       "  <th>Date:</th>             <td>Sun, 10 Jun 2018</td> <th>  Prob (F-statistic):</th> <td>2.63e-150</td>\n",
       "</tr>\n",
       "<tr>\n",
       "  <th>Time:</th>                 <td>21:02:25</td>     <th>  Log-Likelihood:    </th> <td> -23800.</td> \n",
       "</tr>\n",
       "<tr>\n",
       "  <th>No. Observations:</th>      <td>  5317</td>      <th>  AIC:               </th> <td>4.761e+04</td>\n",
       "</tr>\n",
       "<tr>\n",
       "  <th>Df Residuals:</th>          <td>  5311</td>      <th>  BIC:               </th> <td>4.765e+04</td>\n",
       "</tr>\n",
       "<tr>\n",
       "  <th>Df Model:</th>              <td>     5</td>      <th>                     </th>     <td> </td>    \n",
       "</tr>\n",
       "<tr>\n",
       "  <th>Covariance Type:</th>      <td>nonrobust</td>    <th>                     </th>     <td> </td>    \n",
       "</tr>\n",
       "</table>\n",
       "<table class=\"simpletable\">\n",
       "<tr>\n",
       "         <td></td>           <th>coef</th>     <th>std err</th>      <th>t</th>      <th>P>|t|</th>  <th>[0.025</th>    <th>0.975]</th>  \n",
       "</tr>\n",
       "<tr>\n",
       "  <th>Intercept</th>      <td>   50.7937</td> <td>    1.238</td> <td>   41.042</td> <td> 0.000</td> <td>   48.368</td> <td>   53.220</td>\n",
       "</tr>\n",
       "<tr>\n",
       "  <th>house_price</th>    <td>   -0.0003</td> <td> 2.07e-05</td> <td>  -14.438</td> <td> 0.000</td> <td>   -0.000</td> <td>   -0.000</td>\n",
       "</tr>\n",
       "<tr>\n",
       "  <th>terminal_price</th> <td>   -0.0020</td> <td>    0.000</td> <td>   -7.876</td> <td> 0.000</td> <td>   -0.002</td> <td>   -0.001</td>\n",
       "</tr>\n",
       "<tr>\n",
       "  <th>fees</th>           <td>   -0.0224</td> <td>    0.005</td> <td>   -4.777</td> <td> 0.000</td> <td>   -0.032</td> <td>   -0.013</td>\n",
       "</tr>\n",
       "<tr>\n",
       "  <th>rg</th>             <td>   -1.7355</td> <td>    0.076</td> <td>  -22.728</td> <td> 0.000</td> <td>   -1.885</td> <td>   -1.586</td>\n",
       "</tr>\n",
       "<tr>\n",
       "  <th>att_median</th>     <td>   -0.1114</td> <td>    0.053</td> <td>   -2.099</td> <td> 0.036</td> <td>   -0.215</td> <td>   -0.007</td>\n",
       "</tr>\n",
       "</table>\n",
       "<table class=\"simpletable\">\n",
       "<tr>\n",
       "  <th>Omnibus:</th>       <td>3809.169</td> <th>  Durbin-Watson:     </th> <td>   1.982</td> \n",
       "</tr>\n",
       "<tr>\n",
       "  <th>Prob(Omnibus):</th>  <td> 0.000</td>  <th>  Jarque-Bera (JB):  </th> <td>71801.088</td>\n",
       "</tr>\n",
       "<tr>\n",
       "  <th>Skew:</th>           <td> 3.253</td>  <th>  Prob(JB):          </th> <td>    0.00</td> \n",
       "</tr>\n",
       "<tr>\n",
       "  <th>Kurtosis:</th>       <td>19.786</td>  <th>  Cond. No.          </th> <td>1.49e+05</td> \n",
       "</tr>\n",
       "</table>"
      ],
      "text/plain": [
       "<class 'statsmodels.iolib.summary.Summary'>\n",
       "\"\"\"\n",
       "                            OLS Regression Results                            \n",
       "==============================================================================\n",
       "Dep. Variable:             loc_median   R-squared:                       0.124\n",
       "Model:                            OLS   Adj. R-squared:                  0.124\n",
       "Method:                 Least Squares   F-statistic:                     150.9\n",
       "Date:                Sun, 10 Jun 2018   Prob (F-statistic):          2.63e-150\n",
       "Time:                        21:02:25   Log-Likelihood:                -23800.\n",
       "No. Observations:                5317   AIC:                         4.761e+04\n",
       "Df Residuals:                    5311   BIC:                         4.765e+04\n",
       "Df Model:                           5                                         \n",
       "Covariance Type:            nonrobust                                         \n",
       "==================================================================================\n",
       "                     coef    std err          t      P>|t|      [0.025      0.975]\n",
       "----------------------------------------------------------------------------------\n",
       "Intercept         50.7937      1.238     41.042      0.000      48.368      53.220\n",
       "house_price       -0.0003   2.07e-05    -14.438      0.000      -0.000      -0.000\n",
       "terminal_price    -0.0020      0.000     -7.876      0.000      -0.002      -0.001\n",
       "fees              -0.0224      0.005     -4.777      0.000      -0.032      -0.013\n",
       "rg                -1.7355      0.076    -22.728      0.000      -1.885      -1.586\n",
       "att_median        -0.1114      0.053     -2.099      0.036      -0.215      -0.007\n",
       "==============================================================================\n",
       "Omnibus:                     3809.169   Durbin-Watson:                   1.982\n",
       "Prob(Omnibus):                  0.000   Jarque-Bera (JB):            71801.088\n",
       "Skew:                           3.253   Prob(JB):                         0.00\n",
       "Kurtosis:                      19.786   Cond. No.                     1.49e+05\n",
       "==============================================================================\n",
       "\n",
       "Warnings:\n",
       "[1] Standard Errors assume that the covariance matrix of the errors is correctly specified.\n",
       "[2] The condition number is large, 1.49e+05. This might indicate that there are\n",
       "strong multicollinearity or other numerical problems.\n",
       "\"\"\""
      ]
     },
     "execution_count": 21,
     "metadata": {},
     "output_type": "execute_result"
    }
   ],
   "source": [
    "reg = smf.ols('loc_median ~ house_price+terminal_price+fees+rg+att_median',\n",
    "               data = poor).fit()  \n",
    "reg.summary()"
   ]
  },
  {
   "cell_type": "code",
   "execution_count": null,
   "metadata": {},
   "outputs": [],
   "source": []
  },
  {
   "cell_type": "code",
   "execution_count": 60,
   "metadata": {
    "ExecuteTime": {
     "end_time": "2018-06-06T03:37:50.822462Z",
     "start_time": "2018-06-06T03:37:50.335300Z"
    }
   },
   "outputs": [],
   "source": [
    "basename_clean['terminal_price1']=basename_clean['terminal_price'].apply(lambda x:np.round(x/2000)*1000)"
   ]
  },
  {
   "cell_type": "code",
   "execution_count": 113,
   "metadata": {
    "ExecuteTime": {
     "end_time": "2018-06-06T04:07:30.554019Z",
     "start_time": "2018-06-06T04:07:30.542674Z"
    }
   },
   "outputs": [],
   "source": [
    "basename_clean['att_median1'] = np.round(basename_clean['att_median']/10)"
   ]
  },
  {
   "cell_type": "code",
   "execution_count": 89,
   "metadata": {
    "ExecuteTime": {
     "end_time": "2018-06-06T03:59:35.133598Z",
     "start_time": "2018-06-06T03:59:35.118746Z"
    }
   },
   "outputs": [
    {
     "data": {
      "text/plain": [
       "count    87365.000000\n",
       "mean        23.892657\n",
       "std         27.791454\n",
       "min       -218.000000\n",
       "25%         13.000000\n",
       "50%         18.000000\n",
       "75%         26.000000\n",
       "max        822.000000\n",
       "Name: att_median1, dtype: float64"
      ]
     },
     "execution_count": 89,
     "metadata": {},
     "output_type": "execute_result"
    }
   ],
   "source": [
    "basename_clean['att_median1'].describe()"
   ]
  },
  {
   "cell_type": "code",
   "execution_count": 112,
   "metadata": {
    "ExecuteTime": {
     "end_time": "2018-06-06T04:05:54.703368Z",
     "start_time": "2018-06-06T04:05:54.555275Z"
    }
   },
   "outputs": [
    {
     "data": {
      "image/png": "[encoded data removed]",
      "text/plain": [
       "<matplotlib.figure.Figure at 0x1c2a36d748>"
      ]
     },
     "metadata": {},
     "output_type": "display_data"
    }
   ],
   "source": [
    "plt.hist(basename_clean['att_median1'][basename_clean['att_median1'].notnull()])\n",
    "plt.show()"
   ]
  },
  {
   "cell_type": "code",
   "execution_count": 115,
   "metadata": {
    "ExecuteTime": {
     "end_time": "2018-06-06T04:07:50.730837Z",
     "start_time": "2018-06-06T04:07:50.533552Z"
    }
   },
   "outputs": [
    {
     "ename": "ValueError",
     "evalue": "low >= high",
     "output_type": "error",
     "traceback": [
      "\u001b[0;31m---------------------------------------------------------------------------\u001b[0m",
      "\u001b[0;31mValueError\u001b[0m                                Traceback (most recent call last)",
      "\u001b[0;32m<ipython-input-115-6f4666e39e95>\u001b[0m in \u001b[0;36m<module>\u001b[0;34m()\u001b[0m\n\u001b[1;32m      7\u001b[0m \u001b[0;31m# Plot tip as a function of toal bill across days\u001b[0m\u001b[0;34m\u001b[0m\u001b[0;34m\u001b[0m\u001b[0m\n\u001b[1;32m      8\u001b[0m g = sns.lmplot(x='house_price', y=\"rg\", hue=\"att_median1\",\n\u001b[0;32m----> 9\u001b[0;31m                truncate=True, size=5, data=basename_clean);\n\u001b[0m\u001b[1;32m     10\u001b[0m \u001b[0;34m\u001b[0m\u001b[0m\n\u001b[1;32m     11\u001b[0m \u001b[0;31m# # Use more informative axis labels than are provided by default\u001b[0m\u001b[0;34m\u001b[0m\u001b[0;34m\u001b[0m\u001b[0m\n",
      "\u001b[0;32m~/anaconda3/lib/python3.6/site-packages/seaborn/regression.py\u001b[0m in \u001b[0;36mlmplot\u001b[0;34m(x, y, data, hue, col, row, palette, col_wrap, size, aspect, markers, sharex, sharey, hue_order, col_order, row_order, legend, legend_out, x_estimator, x_bins, x_ci, scatter, fit_reg, ci, n_boot, units, order, logistic, lowess, robust, logx, x_partial, y_partial, truncate, x_jitter, y_jitter, scatter_kws, line_kws)\u001b[0m\n\u001b[1;32m    588\u001b[0m         \u001b[0mscatter_kws\u001b[0m\u001b[0;34m=\u001b[0m\u001b[0mscatter_kws\u001b[0m\u001b[0;34m,\u001b[0m \u001b[0mline_kws\u001b[0m\u001b[0;34m=\u001b[0m\u001b[0mline_kws\u001b[0m\u001b[0;34m,\u001b[0m\u001b[0;34m\u001b[0m\u001b[0m\n\u001b[1;32m    589\u001b[0m         )\n\u001b[0;32m--> 590\u001b[0;31m     \u001b[0mfacets\u001b[0m\u001b[0;34m.\u001b[0m\u001b[0mmap_dataframe\u001b[0m\u001b[0;34m(\u001b[0m\u001b[0mregplot\u001b[0m\u001b[0;34m,\u001b[0m \u001b[0mx\u001b[0m\u001b[0;34m,\u001b[0m \u001b[0my\u001b[0m\u001b[0;34m,\u001b[0m \u001b[0;34m**\u001b[0m\u001b[0mregplot_kws\u001b[0m\u001b[0;34m)\u001b[0m\u001b[0;34m\u001b[0m\u001b[0m\n\u001b[0m\u001b[1;32m    591\u001b[0m \u001b[0;34m\u001b[0m\u001b[0m\n\u001b[1;32m    592\u001b[0m     \u001b[0;31m# Add a legend\u001b[0m\u001b[0;34m\u001b[0m\u001b[0;34m\u001b[0m\u001b[0m\n",
      "\u001b[0;32m~/anaconda3/lib/python3.6/site-packages/seaborn/axisgrid.py\u001b[0m in \u001b[0;36mmap_dataframe\u001b[0;34m(self, func, *args, **kwargs)\u001b[0m\n\u001b[1;32m    795\u001b[0m \u001b[0;34m\u001b[0m\u001b[0m\n\u001b[1;32m    796\u001b[0m             \u001b[0;31m# Draw the plot\u001b[0m\u001b[0;34m\u001b[0m\u001b[0;34m\u001b[0m\u001b[0m\n\u001b[0;32m--> 797\u001b[0;31m             \u001b[0mself\u001b[0m\u001b[0;34m.\u001b[0m\u001b[0m_facet_plot\u001b[0m\u001b[0;34m(\u001b[0m\u001b[0mfunc\u001b[0m\u001b[0;34m,\u001b[0m \u001b[0max\u001b[0m\u001b[0;34m,\u001b[0m \u001b[0margs\u001b[0m\u001b[0;34m,\u001b[0m \u001b[0mkwargs\u001b[0m\u001b[0;34m)\u001b[0m\u001b[0;34m\u001b[0m\u001b[0m\n\u001b[0m\u001b[1;32m    798\u001b[0m \u001b[0;34m\u001b[0m\u001b[0m\n\u001b[1;32m    799\u001b[0m         \u001b[0;31m# Finalize the annotations and layout\u001b[0m\u001b[0;34m\u001b[0m\u001b[0;34m\u001b[0m\u001b[0m\n",
      "\u001b[0;32m~/anaconda3/lib/python3.6/site-packages/seaborn/axisgrid.py\u001b[0m in \u001b[0;36m_facet_plot\u001b[0;34m(self, func, ax, plot_args, plot_kwargs)\u001b[0m\n\u001b[1;32m    813\u001b[0m \u001b[0;34m\u001b[0m\u001b[0m\n\u001b[1;32m    814\u001b[0m         \u001b[0;31m# Draw the plot\u001b[0m\u001b[0;34m\u001b[0m\u001b[0;34m\u001b[0m\u001b[0m\n\u001b[0;32m--> 815\u001b[0;31m         \u001b[0mfunc\u001b[0m\u001b[0;34m(\u001b[0m\u001b[0;34m*\u001b[0m\u001b[0mplot_args\u001b[0m\u001b[0;34m,\u001b[0m \u001b[0;34m**\u001b[0m\u001b[0mplot_kwargs\u001b[0m\u001b[0;34m)\u001b[0m\u001b[0;34m\u001b[0m\u001b[0m\n\u001b[0m\u001b[1;32m    816\u001b[0m \u001b[0;34m\u001b[0m\u001b[0m\n\u001b[1;32m    817\u001b[0m         \u001b[0;31m# Sort out the supporting information\u001b[0m\u001b[0;34m\u001b[0m\u001b[0;34m\u001b[0m\u001b[0m\n",
      "\u001b[0;32m~/anaconda3/lib/python3.6/site-packages/seaborn/regression.py\u001b[0m in \u001b[0;36mregplot\u001b[0;34m(x, y, data, x_estimator, x_bins, x_ci, scatter, fit_reg, ci, n_boot, units, order, logistic, lowess, robust, logx, x_partial, y_partial, truncate, dropna, x_jitter, y_jitter, label, color, marker, scatter_kws, line_kws, ax)\u001b[0m\n\u001b[1;32m    788\u001b[0m     \u001b[0mscatter_kws\u001b[0m\u001b[0;34m[\u001b[0m\u001b[0;34m\"marker\"\u001b[0m\u001b[0;34m]\u001b[0m \u001b[0;34m=\u001b[0m \u001b[0mmarker\u001b[0m\u001b[0;34m\u001b[0m\u001b[0m\n\u001b[1;32m    789\u001b[0m     \u001b[0mline_kws\u001b[0m \u001b[0;34m=\u001b[0m \u001b[0;34m{\u001b[0m\u001b[0;34m}\u001b[0m \u001b[0;32mif\u001b[0m \u001b[0mline_kws\u001b[0m \u001b[0;32mis\u001b[0m \u001b[0;32mNone\u001b[0m \u001b[0;32melse\u001b[0m \u001b[0mcopy\u001b[0m\u001b[0;34m.\u001b[0m\u001b[0mcopy\u001b[0m\u001b[0;34m(\u001b[0m\u001b[0mline_kws\u001b[0m\u001b[0;34m)\u001b[0m\u001b[0;34m\u001b[0m\u001b[0m\n\u001b[0;32m--> 790\u001b[0;31m     \u001b[0mplotter\u001b[0m\u001b[0;34m.\u001b[0m\u001b[0mplot\u001b[0m\u001b[0;34m(\u001b[0m\u001b[0max\u001b[0m\u001b[0;34m,\u001b[0m \u001b[0mscatter_kws\u001b[0m\u001b[0;34m,\u001b[0m \u001b[0mline_kws\u001b[0m\u001b[0;34m)\u001b[0m\u001b[0;34m\u001b[0m\u001b[0m\n\u001b[0m\u001b[1;32m    791\u001b[0m     \u001b[0;32mreturn\u001b[0m \u001b[0max\u001b[0m\u001b[0;34m\u001b[0m\u001b[0m\n\u001b[1;32m    792\u001b[0m \u001b[0;34m\u001b[0m\u001b[0m\n",
      "\u001b[0;32m~/anaconda3/lib/python3.6/site-packages/seaborn/regression.py\u001b[0m in \u001b[0;36mplot\u001b[0;34m(self, ax, scatter_kws, line_kws)\u001b[0m\n\u001b[1;32m    340\u001b[0m             \u001b[0mself\u001b[0m\u001b[0;34m.\u001b[0m\u001b[0mscatterplot\u001b[0m\u001b[0;34m(\u001b[0m\u001b[0max\u001b[0m\u001b[0;34m,\u001b[0m \u001b[0mscatter_kws\u001b[0m\u001b[0;34m)\u001b[0m\u001b[0;34m\u001b[0m\u001b[0m\n\u001b[1;32m    341\u001b[0m         \u001b[0;32mif\u001b[0m \u001b[0mself\u001b[0m\u001b[0;34m.\u001b[0m\u001b[0mfit_reg\u001b[0m\u001b[0;34m:\u001b[0m\u001b[0;34m\u001b[0m\u001b[0m\n\u001b[0;32m--> 342\u001b[0;31m             \u001b[0mself\u001b[0m\u001b[0;34m.\u001b[0m\u001b[0mlineplot\u001b[0m\u001b[0;34m(\u001b[0m\u001b[0max\u001b[0m\u001b[0;34m,\u001b[0m \u001b[0mline_kws\u001b[0m\u001b[0;34m)\u001b[0m\u001b[0;34m\u001b[0m\u001b[0m\n\u001b[0m\u001b[1;32m    343\u001b[0m \u001b[0;34m\u001b[0m\u001b[0m\n\u001b[1;32m    344\u001b[0m         \u001b[0;31m# Label the axes\u001b[0m\u001b[0;34m\u001b[0m\u001b[0;34m\u001b[0m\u001b[0m\n",
      "\u001b[0;32m~/anaconda3/lib/python3.6/site-packages/seaborn/regression.py\u001b[0m in \u001b[0;36mlineplot\u001b[0;34m(self, ax, kws)\u001b[0m\n\u001b[1;32m    385\u001b[0m \u001b[0;34m\u001b[0m\u001b[0m\n\u001b[1;32m    386\u001b[0m         \u001b[0;31m# Fit the regression model\u001b[0m\u001b[0;34m\u001b[0m\u001b[0;34m\u001b[0m\u001b[0m\n\u001b[0;32m--> 387\u001b[0;31m         \u001b[0mgrid\u001b[0m\u001b[0;34m,\u001b[0m \u001b[0myhat\u001b[0m\u001b[0;34m,\u001b[0m \u001b[0merr_bands\u001b[0m \u001b[0;34m=\u001b[0m \u001b[0mself\u001b[0m\u001b[0;34m.\u001b[0m\u001b[0mfit_regression\u001b[0m\u001b[0;34m(\u001b[0m\u001b[0max\u001b[0m\u001b[0;34m)\u001b[0m\u001b[0;34m\u001b[0m\u001b[0m\n\u001b[0m\u001b[1;32m    388\u001b[0m \u001b[0;34m\u001b[0m\u001b[0m\n\u001b[1;32m    389\u001b[0m         \u001b[0;31m# Get set default aesthetics\u001b[0m\u001b[0;34m\u001b[0m\u001b[0;34m\u001b[0m\u001b[0m\n",
      "\u001b[0;32m~/anaconda3/lib/python3.6/site-packages/seaborn/regression.py\u001b[0m in \u001b[0;36mfit_regression\u001b[0;34m(self, ax, x_range, grid)\u001b[0m\n\u001b[1;32m    208\u001b[0m             \u001b[0myhat\u001b[0m\u001b[0;34m,\u001b[0m \u001b[0myhat_boots\u001b[0m \u001b[0;34m=\u001b[0m \u001b[0mself\u001b[0m\u001b[0;34m.\u001b[0m\u001b[0mfit_logx\u001b[0m\u001b[0;34m(\u001b[0m\u001b[0mgrid\u001b[0m\u001b[0;34m)\u001b[0m\u001b[0;34m\u001b[0m\u001b[0m\n\u001b[1;32m    209\u001b[0m         \u001b[0;32melse\u001b[0m\u001b[0;34m:\u001b[0m\u001b[0;34m\u001b[0m\u001b[0m\n\u001b[0;32m--> 210\u001b[0;31m             \u001b[0myhat\u001b[0m\u001b[0;34m,\u001b[0m \u001b[0myhat_boots\u001b[0m \u001b[0;34m=\u001b[0m \u001b[0mself\u001b[0m\u001b[0;34m.\u001b[0m\u001b[0mfit_fast\u001b[0m\u001b[0;34m(\u001b[0m\u001b[0mgrid\u001b[0m\u001b[0;34m)\u001b[0m\u001b[0;34m\u001b[0m\u001b[0m\n\u001b[0m\u001b[1;32m    211\u001b[0m \u001b[0;34m\u001b[0m\u001b[0m\n\u001b[1;32m    212\u001b[0m         \u001b[0;31m# Compute the confidence interval at each grid point\u001b[0m\u001b[0;34m\u001b[0m\u001b[0;34m\u001b[0m\u001b[0m\n",
      "\u001b[0;32m~/anaconda3/lib/python3.6/site-packages/seaborn/regression.py\u001b[0m in \u001b[0;36mfit_fast\u001b[0;34m(self, grid)\u001b[0m\n\u001b[1;32m    228\u001b[0m \u001b[0;34m\u001b[0m\u001b[0m\n\u001b[1;32m    229\u001b[0m         beta_boots = algo.bootstrap(X, y, func=reg_func,\n\u001b[0;32m--> 230\u001b[0;31m                                     n_boot=self.n_boot, units=self.units).T\n\u001b[0m\u001b[1;32m    231\u001b[0m         \u001b[0myhat_boots\u001b[0m \u001b[0;34m=\u001b[0m \u001b[0mgrid\u001b[0m\u001b[0;34m.\u001b[0m\u001b[0mdot\u001b[0m\u001b[0;34m(\u001b[0m\u001b[0mbeta_boots\u001b[0m\u001b[0;34m)\u001b[0m\u001b[0;34m.\u001b[0m\u001b[0mT\u001b[0m\u001b[0;34m\u001b[0m\u001b[0m\n\u001b[1;32m    232\u001b[0m         \u001b[0;32mreturn\u001b[0m \u001b[0myhat\u001b[0m\u001b[0;34m,\u001b[0m \u001b[0myhat_boots\u001b[0m\u001b[0;34m\u001b[0m\u001b[0m\n",
      "\u001b[0;32m~/anaconda3/lib/python3.6/site-packages/seaborn/algorithms.py\u001b[0m in \u001b[0;36mbootstrap\u001b[0;34m(*args, **kwargs)\u001b[0m\n\u001b[1;32m     72\u001b[0m     \u001b[0mboot_dist\u001b[0m \u001b[0;34m=\u001b[0m \u001b[0;34m[\u001b[0m\u001b[0;34m]\u001b[0m\u001b[0;34m\u001b[0m\u001b[0m\n\u001b[1;32m     73\u001b[0m     \u001b[0;32mfor\u001b[0m \u001b[0mi\u001b[0m \u001b[0;32min\u001b[0m \u001b[0mrange\u001b[0m\u001b[0;34m(\u001b[0m\u001b[0mint\u001b[0m\u001b[0;34m(\u001b[0m\u001b[0mn_boot\u001b[0m\u001b[0;34m)\u001b[0m\u001b[0;34m)\u001b[0m\u001b[0;34m:\u001b[0m\u001b[0;34m\u001b[0m\u001b[0m\n\u001b[0;32m---> 74\u001b[0;31m         \u001b[0mresampler\u001b[0m \u001b[0;34m=\u001b[0m \u001b[0mrs\u001b[0m\u001b[0;34m.\u001b[0m\u001b[0mrandint\u001b[0m\u001b[0;34m(\u001b[0m\u001b[0;36m0\u001b[0m\u001b[0;34m,\u001b[0m \u001b[0mn\u001b[0m\u001b[0;34m,\u001b[0m \u001b[0mn\u001b[0m\u001b[0;34m)\u001b[0m\u001b[0;34m\u001b[0m\u001b[0m\n\u001b[0m\u001b[1;32m     75\u001b[0m         \u001b[0msample\u001b[0m \u001b[0;34m=\u001b[0m \u001b[0;34m[\u001b[0m\u001b[0ma\u001b[0m\u001b[0;34m.\u001b[0m\u001b[0mtake\u001b[0m\u001b[0;34m(\u001b[0m\u001b[0mresampler\u001b[0m\u001b[0;34m,\u001b[0m \u001b[0maxis\u001b[0m\u001b[0;34m=\u001b[0m\u001b[0;36m0\u001b[0m\u001b[0;34m)\u001b[0m \u001b[0;32mfor\u001b[0m \u001b[0ma\u001b[0m \u001b[0;32min\u001b[0m \u001b[0margs\u001b[0m\u001b[0;34m]\u001b[0m\u001b[0;34m\u001b[0m\u001b[0m\n\u001b[1;32m     76\u001b[0m         \u001b[0mboot_dist\u001b[0m\u001b[0;34m.\u001b[0m\u001b[0mappend\u001b[0m\u001b[0;34m(\u001b[0m\u001b[0mfunc\u001b[0m\u001b[0;34m(\u001b[0m\u001b[0;34m*\u001b[0m\u001b[0msample\u001b[0m\u001b[0;34m,\u001b[0m \u001b[0;34m**\u001b[0m\u001b[0mfunc_kwargs\u001b[0m\u001b[0;34m)\u001b[0m\u001b[0;34m)\u001b[0m\u001b[0;34m\u001b[0m\u001b[0m\n",
      "\u001b[0;32mmtrand.pyx\u001b[0m in \u001b[0;36mmtrand.RandomState.randint\u001b[0;34m()\u001b[0m\n",
      "\u001b[0;31mValueError\u001b[0m: low >= high"
     ]
    }
   ],
   "source": [
    "# import seaborn as sns\n",
    "sns.set()\n",
    "\n",
    "# Load the example tips dataset\n",
    "# iris = sns.load_dataset(\"basename_clean\")\n",
    "\n",
    "# Plot tip as a function of toal bill across days\n",
    "g = sns.lmplot(x='house_price', y=\"rg\", hue=\"att_median1\",\n",
    "               truncate=True, size=5, data=basename_clean);\n",
    "\n",
    "# # Use more informative axis labels than are provided by default\n",
    "# g.set_axis_labels(\"Sepal length (mm)\", \"Sepal width (mm)\")\n",
    "# plt.show()"
   ]
  },
  {
   "cell_type": "code",
   "execution_count": 95,
   "metadata": {
    "ExecuteTime": {
     "end_time": "2018-06-06T04:02:05.798912Z",
     "start_time": "2018-06-06T04:02:05.600466Z"
    }
   },
   "outputs": [
    {
     "data": {
      "image/png": "[encoded data removed]",
      "text/plain": [
       "<matplotlib.figure.Figure at 0x1c402e0940>"
      ]
     },
     "metadata": {},
     "output_type": "display_data"
    }
   ],
   "source": [
    "g\n",
    "plt.show()"
   ]
  },
  {
   "cell_type": "code",
   "execution_count": 118,
   "metadata": {
    "ExecuteTime": {
     "end_time": "2018-06-06T04:09:20.267760Z",
     "start_time": "2018-06-06T04:09:19.676303Z"
    }
   },
   "outputs": [
    {
     "data": {
      "image/png": "[encoded data removed]",
      "text/plain": [
       "<matplotlib.figure.Figure at 0x1c291ad4e0>"
      ]
     },
     "metadata": {},
     "output_type": "display_data"
    }
   ],
   "source": [
    "df=basename_clean[[\"house_price\", \"rg\", \"sex\"]]\n",
    "\n",
    "# Initialize a grid of plots with an Axes for each walk\n",
    "grid = sns.FacetGrid(df, col=\"sex\", hue=\"sex\", col_wrap=5, size=5)\n",
    "\n",
    "# Draw a horizontal line to show the starting point\n",
    "grid.map(plt.axhline, y=0, ls=\":\", c=\".5\")\n",
    "\n",
    "# Draw a line plot to show the trajectory of each random walk\n",
    "grid.map(plt.plot, \"house_price\", \"rg\", marker=\"o\",linestyle = '', ms=4)\n",
    "\n",
    "# Adjust the tick positions and labels\n",
    "# grid.set(xticks=np.arange(5), yticks=[-3, 3],\n",
    "#          xlim=(-.5, 4.5), ylim=(-3.5, 3.5))\n",
    "\n",
    "# Adjust the arrangement of the plots\n",
    "# grid.fig.tight_layout(w_pad=1)\n",
    "plt.show()"
   ]
  },
  {
   "cell_type": "code",
   "execution_count": null,
   "metadata": {},
   "outputs": [],
   "source": []
  },
  {
   "cell_type": "code",
   "execution_count": 47,
   "metadata": {
    "ExecuteTime": {
     "end_time": "2018-06-06T03:24:04.869452Z",
     "start_time": "2018-06-06T03:24:04.701880Z"
    }
   },
   "outputs": [
    {
     "data": {
      "image/png": "[encoded data removed]",
      "text/plain": [
       "<matplotlib.figure.Figure at 0x1c12b529b0>"
      ]
     },
     "metadata": {},
     "output_type": "display_data"
    }
   ],
   "source": [
    "plt.plot(basename_clean['rg'],basename_clean['house_price'],'.')\n",
    "plt.show()"
   ]
  },
  {
   "cell_type": "code",
   "execution_count": 35,
   "metadata": {
    "ExecuteTime": {
     "end_time": "2018-06-06T03:04:38.782567Z",
     "start_time": "2018-06-06T03:04:38.778436Z"
    }
   },
   "outputs": [],
   "source": [
    "basename_clean['intercept']=1"
   ]
  },
  {
   "cell_type": "code",
   "execution_count": 81,
   "metadata": {
    "ExecuteTime": {
     "end_time": "2018-06-06T03:50:16.806135Z",
     "start_time": "2018-06-06T03:50:16.766128Z"
    },
    "scrolled": false
   },
   "outputs": [
    {
     "data": {
      "text/html": [
       "<table class=\"simpletable\">\n",
       "<caption>OLS Regression Results</caption>\n",
       "<tr>\n",
       "  <th>Dep. Variable:</th>           <td>rg</td>        <th>  R-squared:         </th>  <td>   0.021</td>  \n",
       "</tr>\n",
       "<tr>\n",
       "  <th>Model:</th>                   <td>OLS</td>       <th>  Adj. R-squared:    </th>  <td>   0.021</td>  \n",
       "</tr>\n",
       "<tr>\n",
       "  <th>Method:</th>             <td>Least Squares</td>  <th>  F-statistic:       </th>  <td>   967.1</td>  \n",
       "</tr>\n",
       "<tr>\n",
       "  <th>Date:</th>             <td>Wed, 06 Jun 2018</td> <th>  Prob (F-statistic):</th>  <td>3.90e-210</td> \n",
       "</tr>\n",
       "<tr>\n",
       "  <th>Time:</th>                 <td>11:50:16</td>     <th>  Log-Likelihood:    </th> <td>-1.4117e+05</td>\n",
       "</tr>\n",
       "<tr>\n",
       "  <th>No. Observations:</th>      <td> 45764</td>      <th>  AIC:               </th>  <td>2.824e+05</td> \n",
       "</tr>\n",
       "<tr>\n",
       "  <th>Df Residuals:</th>          <td> 45762</td>      <th>  BIC:               </th>  <td>2.824e+05</td> \n",
       "</tr>\n",
       "<tr>\n",
       "  <th>Df Model:</th>              <td>     1</td>      <th>                     </th>      <td> </td>     \n",
       "</tr>\n",
       "<tr>\n",
       "  <th>Covariance Type:</th>      <td>nonrobust</td>    <th>                     </th>      <td> </td>     \n",
       "</tr>\n",
       "</table>\n",
       "<table class=\"simpletable\">\n",
       "<tr>\n",
       "       <td></td>          <th>coef</th>     <th>std err</th>      <th>t</th>      <th>P>|t|</th>  <th>[0.025</th>    <th>0.975]</th>  \n",
       "</tr>\n",
       "<tr>\n",
       "  <th>Intercept</th>   <td>    8.8953</td> <td>    0.060</td> <td>  148.209</td> <td> 0.000</td> <td>    8.778</td> <td>    9.013</td>\n",
       "</tr>\n",
       "<tr>\n",
       "  <th>house_price</th> <td>-5.137e-05</td> <td> 1.65e-06</td> <td>  -31.099</td> <td> 0.000</td> <td>-5.46e-05</td> <td>-4.81e-05</td>\n",
       "</tr>\n",
       "</table>\n",
       "<table class=\"simpletable\">\n",
       "<tr>\n",
       "  <th>Omnibus:</th>       <td>16634.744</td> <th>  Durbin-Watson:     </th> <td>   1.996</td> \n",
       "</tr>\n",
       "<tr>\n",
       "  <th>Prob(Omnibus):</th>  <td> 0.000</td>   <th>  Jarque-Bera (JB):  </th> <td>82646.536</td>\n",
       "</tr>\n",
       "<tr>\n",
       "  <th>Skew:</th>           <td> 1.701</td>   <th>  Prob(JB):          </th> <td>    0.00</td> \n",
       "</tr>\n",
       "<tr>\n",
       "  <th>Kurtosis:</th>       <td> 8.637</td>   <th>  Cond. No.          </th> <td>8.82e+04</td> \n",
       "</tr>\n",
       "</table>"
      ],
      "text/plain": [
       "<class 'statsmodels.iolib.summary.Summary'>\n",
       "\"\"\"\n",
       "                            OLS Regression Results                            \n",
       "==============================================================================\n",
       "Dep. Variable:                     rg   R-squared:                       0.021\n",
       "Model:                            OLS   Adj. R-squared:                  0.021\n",
       "Method:                 Least Squares   F-statistic:                     967.1\n",
       "Date:                Wed, 06 Jun 2018   Prob (F-statistic):          3.90e-210\n",
       "Time:                        11:50:16   Log-Likelihood:            -1.4117e+05\n",
       "No. Observations:               45764   AIC:                         2.824e+05\n",
       "Df Residuals:                   45762   BIC:                         2.824e+05\n",
       "Df Model:                           1                                         \n",
       "Covariance Type:            nonrobust                                         \n",
       "===============================================================================\n",
       "                  coef    std err          t      P>|t|      [0.025      0.975]\n",
       "-------------------------------------------------------------------------------\n",
       "Intercept       8.8953      0.060    148.209      0.000       8.778       9.013\n",
       "house_price -5.137e-05   1.65e-06    -31.099      0.000   -5.46e-05   -4.81e-05\n",
       "==============================================================================\n",
       "Omnibus:                    16634.744   Durbin-Watson:                   1.996\n",
       "Prob(Omnibus):                  0.000   Jarque-Bera (JB):            82646.536\n",
       "Skew:                           1.701   Prob(JB):                         0.00\n",
       "Kurtosis:                       8.637   Cond. No.                     8.82e+04\n",
       "==============================================================================\n",
       "\n",
       "Warnings:\n",
       "[1] Standard Errors assume that the covariance matrix of the errors is correctly specified.\n",
       "[2] The condition number is large, 8.82e+04. This might indicate that there are\n",
       "strong multicollinearity or other numerical problems.\n",
       "\"\"\""
      ]
     },
     "execution_count": 81,
     "metadata": {},
     "output_type": "execute_result"
    }
   ],
   "source": [
    "reg = smf.ols('rg ~ house_price',\n",
    "               data = basename_clean).fit()\n",
    "# call_duration_m + sex +  \n",
    "reg.summary()"
   ]
  },
  {
   "cell_type": "code",
   "execution_count": null,
   "metadata": {},
   "outputs": [],
   "source": []
  },
  {
   "cell_type": "code",
   "execution_count": null,
   "metadata": {},
   "outputs": [],
   "source": []
  },
  {
   "cell_type": "code",
   "execution_count": 17,
   "metadata": {
    "ExecuteTime": {
     "end_time": "2018-06-05T02:50:31.922761Z",
     "start_time": "2018-06-05T02:50:31.881328Z"
    }
   },
   "outputs": [],
   "source": [
    "basename_clean['sex']=basename_clean['sex'].replace(['男','女'],[0,1])"
   ]
  },
  {
   "cell_type": "code",
   "execution_count": 44,
   "metadata": {
    "ExecuteTime": {
     "end_time": "2018-06-04T02:53:00.420499Z",
     "start_time": "2018-06-04T02:53:00.414647Z"
    }
   },
   "outputs": [],
   "source": [
    "# basename_clean['att_median'] = basename_clean['att_median'].fillna(basename_clean['att_median'].median())"
   ]
  },
  {
   "cell_type": "code",
   "execution_count": 55,
   "metadata": {
    "ExecuteTime": {
     "end_time": "2018-06-04T03:05:14.741155Z",
     "start_time": "2018-06-04T03:05:14.627519Z"
    },
    "scrolled": true
   },
   "outputs": [
    {
     "data": {
      "image/png": "[encoded data removed]",
      "text/plain": [
       "<matplotlib.figure.Figure at 0x1c38e05f98>"
      ]
     },
     "metadata": {},
     "output_type": "display_data"
    }
   ],
   "source": [
    "# plt.hist(np.log(basename_clean.att_median+10**-10))\n",
    "plt.hist(basename_clean['house_price'][basename_clean.house_price.notnull()])\n",
    "plt.show()"
   ]
  },
  {
   "cell_type": "code",
   "execution_count": 62,
   "metadata": {
    "ExecuteTime": {
     "end_time": "2018-06-04T03:10:47.651008Z",
     "start_time": "2018-06-04T03:10:47.443398Z"
    },
    "scrolled": true
   },
   "outputs": [
    {
     "data": {
      "image/png": "[encoded data removed]",
      "text/plain": [
       "<matplotlib.figure.Figure at 0x1c40ff8b70>"
      ]
     },
     "metadata": {},
     "output_type": "display_data"
    }
   ],
   "source": [
    "plt.plot(basename_clean['loc_median'],basename_clean['att_median'],'.')\n",
    "plt.show()"
   ]
  },
  {
   "cell_type": "code",
   "execution_count": 23,
   "metadata": {
    "ExecuteTime": {
     "end_time": "2018-06-05T03:03:51.686782Z",
     "start_time": "2018-06-05T03:03:50.127895Z"
    }
   },
   "outputs": [
    {
     "name": "stdout",
     "output_type": "stream",
     "text": [
      "1.0\n",
      "1.0\n",
      "1.0\n"
     ]
    }
   ],
   "source": [
    "def probability_distribution_function(x, label):\n",
    "    countdict = Counter(x)\n",
    "    for key in countdict.keys():\n",
    "        countdict[key] /= float(len(x))\n",
    "    print(np.sum(list(countdict.values())))\n",
    "    plt.plot(list(countdict.keys()), list(countdict.values()),'.', alpha=0.5, label=label)\n",
    "    plt.xlabel('$x$', fontsize=20)\n",
    "    plt.ylabel('$P_{x}$', fontsize=20)\n",
    "    plt.legend()\n",
    "    plt.title('$Probability\\,Distribution$', fontsize=20)\n",
    "#     plt.show()\n",
    "    plt.savefig('./picture/entropy.png',dpi=100)\n",
    "\n",
    "\n",
    "probability_distribution_function(sorted([np.round(i, 1) for i in basename_clean['AE']]), 'S')\n",
    "probability_distribution_function(sorted([np.round(i, 1) for i in basename_clean['E']]), 'Sunc')\n",
    "probability_distribution_function(sorted([math.log(i, 2) for i in basename_clean['N']]), 'Srand')\n",
    "# probability_distribution_function(sorted([np.round(i, 1) for i in basename_clean['rg']]), 'rg')"
   ]
  },
  {
   "cell_type": "code",
   "execution_count": 27,
   "metadata": {
    "ExecuteTime": {
     "end_time": "2018-06-05T03:09:12.215467Z",
     "start_time": "2018-06-05T03:08:56.911629Z"
    }
   },
   "outputs": [
    {
     "name": "stdout",
     "output_type": "stream",
     "text": [
      "1.0\n",
      "1.0\n",
      "1.0\n"
     ]
    }
   ],
   "source": [
    "def probability_distribution_function1(x, label):\n",
    "    countdict = Counter(x)\n",
    "    for key in countdict.keys():\n",
    "        countdict[key] /= float(len(x))\n",
    "    print(np.sum(list(countdict.values())))\n",
    "    plt.plot(list(countdict.keys()), list(countdict.values()),'.', alpha=0.5, label=label)\n",
    "    plt.xlabel('$x$', fontsize=20)\n",
    "    plt.ylabel('$P_{x}$', fontsize=20)\n",
    "    plt.legend()\n",
    "    plt.title('$Probability\\,Distribution$', fontsize=20)\n",
    "#     plt.show()\n",
    "    plt.savefig('./picture/A_entropy.png',dpi=100)\n",
    "\n",
    "\n",
    "probability_distribution_function1(sorted([np.round(i, 1) for i in basename_clean['A_AE']]), 'S')\n",
    "probability_distribution_function1(sorted([np.round(i, 1) for i in basename_clean['A_E']]), 'Sunc')\n",
    "probability_distribution_function1(sorted([math.log(i, 2) for i in basename_clean['A_N']]), 'Srand')"
   ]
  },
  {
   "cell_type": "code",
   "execution_count": 33,
   "metadata": {
    "ExecuteTime": {
     "end_time": "2018-06-05T03:15:12.594761Z",
     "start_time": "2018-06-05T03:15:12.512617Z"
    },
    "scrolled": true
   },
   "outputs": [
    {
     "data": {
      "text/html": [
       "<table class=\"simpletable\">\n",
       "<caption>OLS Regression Results</caption>\n",
       "<tr>\n",
       "  <th>Dep. Variable:</th>           <td>rg</td>        <th>  R-squared:         </th> <td>   0.259</td> \n",
       "</tr>\n",
       "<tr>\n",
       "  <th>Model:</th>                   <td>OLS</td>       <th>  Adj. R-squared:    </th> <td>   0.258</td> \n",
       "</tr>\n",
       "<tr>\n",
       "  <th>Method:</th>             <td>Least Squares</td>  <th>  F-statistic:       </th> <td>   808.1</td> \n",
       "</tr>\n",
       "<tr>\n",
       "  <th>Date:</th>             <td>Tue, 05 Jun 2018</td> <th>  Prob (F-statistic):</th>  <td>  0.00</td>  \n",
       "</tr>\n",
       "<tr>\n",
       "  <th>Time:</th>                 <td>11:15:12</td>     <th>  Log-Likelihood:    </th> <td> -74292.</td> \n",
       "</tr>\n",
       "<tr>\n",
       "  <th>No. Observations:</th>      <td> 25484</td>      <th>  AIC:               </th> <td>1.486e+05</td>\n",
       "</tr>\n",
       "<tr>\n",
       "  <th>Df Residuals:</th>          <td> 25472</td>      <th>  BIC:               </th> <td>1.487e+05</td>\n",
       "</tr>\n",
       "<tr>\n",
       "  <th>Df Model:</th>              <td>    11</td>      <th>                     </th>     <td> </td>    \n",
       "</tr>\n",
       "<tr>\n",
       "  <th>Covariance Type:</th>      <td>nonrobust</td>    <th>                     </th>     <td> </td>    \n",
       "</tr>\n",
       "</table>\n",
       "<table class=\"simpletable\">\n",
       "<tr>\n",
       "         <td></td>           <th>coef</th>     <th>std err</th>      <th>t</th>      <th>P>|t|</th>  <th>[0.025</th>    <th>0.975]</th>  \n",
       "</tr>\n",
       "<tr>\n",
       "  <th>Intercept</th>      <td>    5.9733</td> <td>    0.185</td> <td>   32.321</td> <td> 0.000</td> <td>    5.611</td> <td>    6.336</td>\n",
       "</tr>\n",
       "<tr>\n",
       "  <th>house_price</th>    <td>-7.162e-05</td> <td>  1.9e-06</td> <td>  -37.641</td> <td> 0.000</td> <td>-7.53e-05</td> <td>-6.79e-05</td>\n",
       "</tr>\n",
       "<tr>\n",
       "  <th>terminal_price</th> <td>   -0.0003</td> <td> 2.41e-05</td> <td>  -12.032</td> <td> 0.000</td> <td>   -0.000</td> <td>   -0.000</td>\n",
       "</tr>\n",
       "<tr>\n",
       "  <th>fees</th>           <td>   -0.0016</td> <td>    0.000</td> <td>   -4.147</td> <td> 0.000</td> <td>   -0.002</td> <td>   -0.001</td>\n",
       "</tr>\n",
       "<tr>\n",
       "  <th>loc_median</th>     <td>   -0.0626</td> <td>    0.001</td> <td>  -42.449</td> <td> 0.000</td> <td>   -0.066</td> <td>   -0.060</td>\n",
       "</tr>\n",
       "<tr>\n",
       "  <th>att_median</th>     <td>    0.0017</td> <td>    0.002</td> <td>    0.960</td> <td> 0.337</td> <td>   -0.002</td> <td>    0.005</td>\n",
       "</tr>\n",
       "<tr>\n",
       "  <th>N</th>              <td>    0.0166</td> <td>    0.001</td> <td>   16.602</td> <td> 0.000</td> <td>    0.015</td> <td>    0.019</td>\n",
       "</tr>\n",
       "<tr>\n",
       "  <th>E</th>              <td>    1.3889</td> <td>    0.059</td> <td>   23.482</td> <td> 0.000</td> <td>    1.273</td> <td>    1.505</td>\n",
       "</tr>\n",
       "<tr>\n",
       "  <th>AE</th>             <td>    0.5719</td> <td>    0.061</td> <td>    9.370</td> <td> 0.000</td> <td>    0.452</td> <td>    0.692</td>\n",
       "</tr>\n",
       "<tr>\n",
       "  <th>A_N</th>            <td>   -0.0274</td> <td>    0.006</td> <td>   -4.723</td> <td> 0.000</td> <td>   -0.039</td> <td>   -0.016</td>\n",
       "</tr>\n",
       "<tr>\n",
       "  <th>A_E</th>            <td>   -0.0473</td> <td>    0.104</td> <td>   -0.453</td> <td> 0.651</td> <td>   -0.252</td> <td>    0.157</td>\n",
       "</tr>\n",
       "<tr>\n",
       "  <th>A_AE</th>           <td>    0.9068</td> <td>    0.103</td> <td>    8.763</td> <td> 0.000</td> <td>    0.704</td> <td>    1.110</td>\n",
       "</tr>\n",
       "</table>\n",
       "<table class=\"simpletable\">\n",
       "<tr>\n",
       "  <th>Omnibus:</th>       <td>13177.587</td> <th>  Durbin-Watson:     </th>  <td>   2.007</td> \n",
       "</tr>\n",
       "<tr>\n",
       "  <th>Prob(Omnibus):</th>  <td> 0.000</td>   <th>  Jarque-Bera (JB):  </th> <td>113342.885</td>\n",
       "</tr>\n",
       "<tr>\n",
       "  <th>Skew:</th>           <td> 2.345</td>   <th>  Prob(JB):          </th>  <td>    0.00</td> \n",
       "</tr>\n",
       "<tr>\n",
       "  <th>Kurtosis:</th>       <td>12.206</td>   <th>  Cond. No.          </th>  <td>2.49e+05</td> \n",
       "</tr>\n",
       "</table>"
      ],
      "text/plain": [
       "<class 'statsmodels.iolib.summary.Summary'>\n",
       "\"\"\"\n",
       "                            OLS Regression Results                            \n",
       "==============================================================================\n",
       "Dep. Variable:                     rg   R-squared:                       0.259\n",
       "Model:                            OLS   Adj. R-squared:                  0.258\n",
       "Method:                 Least Squares   F-statistic:                     808.1\n",
       "Date:                Tue, 05 Jun 2018   Prob (F-statistic):               0.00\n",
       "Time:                        11:15:12   Log-Likelihood:                -74292.\n",
       "No. Observations:               25484   AIC:                         1.486e+05\n",
       "Df Residuals:                   25472   BIC:                         1.487e+05\n",
       "Df Model:                          11                                         \n",
       "Covariance Type:            nonrobust                                         \n",
       "==================================================================================\n",
       "                     coef    std err          t      P>|t|      [0.025      0.975]\n",
       "----------------------------------------------------------------------------------\n",
       "Intercept          5.9733      0.185     32.321      0.000       5.611       6.336\n",
       "house_price    -7.162e-05    1.9e-06    -37.641      0.000   -7.53e-05   -6.79e-05\n",
       "terminal_price    -0.0003   2.41e-05    -12.032      0.000      -0.000      -0.000\n",
       "fees              -0.0016      0.000     -4.147      0.000      -0.002      -0.001\n",
       "loc_median        -0.0626      0.001    -42.449      0.000      -0.066      -0.060\n",
       "att_median         0.0017      0.002      0.960      0.337      -0.002       0.005\n",
       "N                  0.0166      0.001     16.602      0.000       0.015       0.019\n",
       "E                  1.3889      0.059     23.482      0.000       1.273       1.505\n",
       "AE                 0.5719      0.061      9.370      0.000       0.452       0.692\n",
       "A_N               -0.0274      0.006     -4.723      0.000      -0.039      -0.016\n",
       "A_E               -0.0473      0.104     -0.453      0.651      -0.252       0.157\n",
       "A_AE               0.9068      0.103      8.763      0.000       0.704       1.110\n",
       "==============================================================================\n",
       "Omnibus:                    13177.587   Durbin-Watson:                   2.007\n",
       "Prob(Omnibus):                  0.000   Jarque-Bera (JB):           113342.885\n",
       "Skew:                           2.345   Prob(JB):                         0.00\n",
       "Kurtosis:                      12.206   Cond. No.                     2.49e+05\n",
       "==============================================================================\n",
       "\n",
       "Warnings:\n",
       "[1] Standard Errors assume that the covariance matrix of the errors is correctly specified.\n",
       "[2] The condition number is large, 2.49e+05. This might indicate that there are\n",
       "strong multicollinearity or other numerical problems.\n",
       "\"\"\""
      ]
     },
     "execution_count": 33,
     "metadata": {},
     "output_type": "execute_result"
    }
   ],
   "source": [
    "reg = smf.ols('rg ~ house_price+terminal_price+fees+loc_median+att_median+N+E+AE+A_N+A_E+A_AE',\n",
    "               data = basename_clean).fit()\n",
    "# call_duration_m + sex +  \n",
    "reg.summary()"
   ]
  },
  {
   "cell_type": "code",
   "execution_count": null,
   "metadata": {},
   "outputs": [],
   "source": []
  },
  {
   "cell_type": "code",
   "execution_count": 3,
   "metadata": {
    "ExecuteTime": {
     "end_time": "2018-06-06T00:47:54.755236Z",
     "start_time": "2018-06-06T00:47:53.428985Z"
    }
   },
   "outputs": [
    {
     "name": "stderr",
     "output_type": "stream",
     "text": [
      "/Users/xuhuimin/anaconda3/lib/python3.6/site-packages/IPython/core/interactiveshell.py:2698: DtypeWarning: Columns (4) have mixed types. Specify dtype option on import or set low_memory=False.\n",
      "  interactivity=interactivity, compiler=compiler, result=result)\n",
      "/Users/xuhuimin/anaconda3/lib/python3.6/site-packages/ipykernel_launcher.py:16: DeprecationWarning: \n",
      ".ix is deprecated. Please use\n",
      ".loc for label based indexing or\n",
      ".iloc for positional indexing\n",
      "\n",
      "See the documentation here:\n",
      "http://pandas.pydata.org/pandas-docs/stable/indexing.html#ix-indexer-is-deprecated\n",
      "  app.launch_new_instance()\n"
     ]
    }
   ],
   "source": [
    "basename_clean=pd.read_csv('./basename_clean.csv')\n",
    "\n",
    "house=basename_clean[basename_clean['house_price'].astype('str')!='nan']\n",
    "terminal=basename_clean[basename_clean['terminal_price'].astype('str')!='nan']\n",
    "\n",
    "\n",
    "\n",
    "high_house=house.sort_values(by=['house_price'],ascending=False)[:int(len(house)*0.20)]['user_id'].values\n",
    "high_terminal=terminal.sort_values(by=['terminal_price','fees'],ascending=False)[:int(len(terminal)*0.20)]['user_id'].values\n",
    "\n",
    "\n",
    "high=set(high_house)&set(high_terminal)#&set(high_fees)\n",
    "\n",
    "high_df=basename_clean.loc[basename_clean['user_id'].isin(high)].index\n",
    "\n",
    "basename_clean.ix[high_df,'type']=1\n",
    "\n",
    "\n",
    "\n",
    "# len(high)\n",
    "\n",
    "low_house=house.sort_values(by=['house_price'],ascending=False)[int(len(house)*0.80):-1]['user_id'].values\n",
    "low_terminal=terminal.sort_values(by=['terminal_price'],ascending=False)[int(len(terminal)*0.80):-1]['user_id'].values\n",
    "# low_fees=fees.sort_values(by=['fees'],ascending=False)[int(len(fees)*0.50):-1]['user_id'].values\n",
    "\n",
    "low=set(low_house)&set(low_terminal)\n",
    "\n",
    "\n",
    "# len(low)\n",
    "\n",
    "low=set(low_house)&set(low_terminal)#&set(high_fees)\n",
    "low_df=basename_clean.loc[basename_clean['user_id'].isin(low)].index\n",
    "\n",
    "basename_clean.ix[low_df,'type']=0\n",
    "\n",
    "\n",
    "\n",
    "select_users=basename_clean.loc[basename_clean['user_id'].isin(set(high)|set(low))]\n"
   ]
  },
  {
   "cell_type": "code",
   "execution_count": 4,
   "metadata": {
    "ExecuteTime": {
     "end_time": "2018-06-06T00:47:57.497100Z",
     "start_time": "2018-06-06T00:47:57.408440Z"
    }
   },
   "outputs": [
    {
     "name": "stderr",
     "output_type": "stream",
     "text": [
      "/Users/xuhuimin/anaconda3/lib/python3.6/site-packages/ipykernel_launcher.py:1: SettingWithCopyWarning: \n",
      "A value is trying to be set on a copy of a slice from a DataFrame.\n",
      "Try using .loc[row_indexer,col_indexer] = value instead\n",
      "\n",
      "See the caveats in the documentation: http://pandas.pydata.org/pandas-docs/stable/indexing.html#indexing-view-versus-copy\n",
      "  \"\"\"Entry point for launching an IPython kernel.\n"
     ]
    }
   ],
   "source": [
    "select_users['intercept']=1"
   ]
  },
  {
   "cell_type": "code",
   "execution_count": 5,
   "metadata": {
    "ExecuteTime": {
     "end_time": "2018-06-06T00:47:59.139831Z",
     "start_time": "2018-06-06T00:47:59.132420Z"
    }
   },
   "outputs": [],
   "source": [
    "select_users=select_users[['type','user_id','intercept','rg','loc_median','att_median','N','E','AE','A_N','A_E','A_AE']].dropna(axis=0,how='any')"
   ]
  },
  {
   "cell_type": "code",
   "execution_count": 12,
   "metadata": {
    "ExecuteTime": {
     "end_time": "2018-06-06T01:23:11.695488Z",
     "start_time": "2018-06-06T01:23:11.677296Z"
    }
   },
   "outputs": [
    {
     "data": {
      "text/plain": [
       "count    1716.000000\n",
       "mean        5.386897\n",
       "std         1.054429\n",
       "min         1.000000\n",
       "25%         4.754888\n",
       "50%         5.491853\n",
       "75%         6.087463\n",
       "max         8.607330\n",
       "Name: N, dtype: float64"
      ]
     },
     "execution_count": 12,
     "metadata": {},
     "output_type": "execute_result"
    }
   ],
   "source": [
    "select_users[select_users['type']==1]['N'].describe()"
   ]
  },
  {
   "cell_type": "code",
   "execution_count": 13,
   "metadata": {
    "ExecuteTime": {
     "end_time": "2018-06-06T01:23:17.819294Z",
     "start_time": "2018-06-06T01:23:17.810751Z"
    }
   },
   "outputs": [
    {
     "data": {
      "text/plain": [
       "count    1227.000000\n",
       "mean        4.961540\n",
       "std         1.394028\n",
       "min         1.000000\n",
       "25%         4.000000\n",
       "50%         5.000000\n",
       "75%         6.000000\n",
       "max         8.836050\n",
       "Name: N, dtype: float64"
      ]
     },
     "execution_count": 13,
     "metadata": {},
     "output_type": "execute_result"
    }
   ],
   "source": [
    "select_users[select_users['type']==0]['N'].describe()"
   ]
  },
  {
   "cell_type": "code",
   "execution_count": 6,
   "metadata": {
    "ExecuteTime": {
     "end_time": "2018-06-06T00:48:03.923643Z",
     "start_time": "2018-06-06T00:48:03.818039Z"
    }
   },
   "outputs": [],
   "source": [
    "select_users['N']=select_users['N'].apply(lambda x:math.log(x, 2))\n",
    "select_users['A_N']=select_users['A_N'].apply(lambda x:math.log(x, 2))"
   ]
  },
  {
   "cell_type": "code",
   "execution_count": 57,
   "metadata": {
    "ExecuteTime": {
     "end_time": "2018-06-05T09:25:21.321694Z",
     "start_time": "2018-06-05T09:25:21.317298Z"
    }
   },
   "outputs": [
    {
     "data": {
      "text/plain": [
       "2943"
      ]
     },
     "execution_count": 57,
     "metadata": {},
     "output_type": "execute_result"
    }
   ],
   "source": [
    "len(select_users)"
   ]
  },
  {
   "cell_type": "code",
   "execution_count": 72,
   "metadata": {
    "ExecuteTime": {
     "end_time": "2018-06-05T09:40:40.178662Z",
     "start_time": "2018-06-05T09:40:40.111399Z"
    },
    "scrolled": true
   },
   "outputs": [
    {
     "name": "stdout",
     "output_type": "stream",
     "text": [
      "Optimization terminated successfully.\n",
      "         Current function value: 0.414164\n",
      "         Iterations 7\n",
      "                           Logit Regression Results                           \n",
      "==============================================================================\n",
      "Dep. Variable:                      y   No. Observations:                 2943\n",
      "Model:                          Logit   Df Residuals:                     2933\n",
      "Method:                           MLE   Df Model:                            9\n",
      "Date:                Tue, 05 Jun 2018   Pseudo R-squ.:                  0.3903\n",
      "Time:                        17:40:40   Log-Likelihood:                -1218.9\n",
      "converged:                       True   LL-Null:                       -1999.1\n",
      "                                        LLR p-value:                     0.000\n",
      "==============================================================================\n",
      "                 coef    std err          z      P>|z|      [0.025      0.975]\n",
      "------------------------------------------------------------------------------\n",
      "intercept     -4.1884      0.335    -12.494      0.000      -4.845      -3.531\n",
      "rg            -0.1916      0.014    -13.265      0.000      -0.220      -0.163\n",
      "loc_median    -0.0298      0.005     -6.155      0.000      -0.039      -0.020\n",
      "att_median     0.0071      0.004      1.973      0.049    4.68e-05       0.014\n",
      "N             -0.0117      0.002     -6.040      0.000      -0.015      -0.008\n",
      "E              2.5001      0.122     20.452      0.000       2.260       2.740\n",
      "AE            -1.7550      0.127    -13.846      0.000      -2.003      -1.507\n",
      "A_N           -0.0386      0.010     -3.720      0.000      -0.059      -0.018\n",
      "A_E           -0.0028      0.207     -0.013      0.989      -0.409       0.404\n",
      "A_AE           2.9389      0.253     11.627      0.000       2.444       3.434\n",
      "==============================================================================\n",
      "odds ratios:\n",
      "intercept      0.015171\n",
      "rg             0.825625\n",
      "loc_median     0.970629\n",
      "att_median     1.007141\n",
      "N              0.988369\n",
      "E             12.183540\n",
      "AE             0.172905\n",
      "A_N            0.962170\n",
      "A_E            0.997205\n",
      "A_AE          18.895924\n",
      "dtype: float64\n",
      "Deviance stats 0.999999999997\n"
     ]
    }
   ],
   "source": [
    "y=select_users['type'].values\n",
    "user_list=select_users['user_id'].values\n",
    "x=select_users[['intercept','rg','loc_median','att_median','N','E','AE','A_N','A_E','A_AE']]\n",
    "\n",
    "logit = sm.Logit(y, x)\n",
    "result=logit.fit(cov_type='cluster',cov_kwds={'groups': user_list})\n",
    "print(result.summary())\n",
    "print( \"odds ratios:\")\n",
    "print( np.exp(result.params))\n",
    "###Goodness of fit checks\n",
    "\n",
    "formula = \"y ~ rg+loc_median+att_median+N+E+AE+A_N+A_E+A_AE\"\n",
    "logit = smf.glm(formula=formula, data=x, family=sm.families.Binomial())\n",
    "result=logit.fit(cov_type='cluster',cov_kwds={'groups': user_list})\n",
    "print ( \"Deviance stats\",1 - stats.chi2.cdf(result.deviance, result.df_resid))"
   ]
  },
  {
   "cell_type": "code",
   "execution_count": 30,
   "metadata": {
    "ExecuteTime": {
     "end_time": "2018-06-06T01:53:02.908751Z",
     "start_time": "2018-06-06T01:53:02.844108Z"
    },
    "scrolled": true
   },
   "outputs": [
    {
     "name": "stdout",
     "output_type": "stream",
     "text": [
      "Optimization terminated successfully.\n",
      "         Current function value: 0.439523\n",
      "         Iterations 7\n",
      "                           Logit Regression Results                           \n",
      "==============================================================================\n",
      "Dep. Variable:                      y   No. Observations:                 2943\n",
      "Model:                          Logit   Df Residuals:                     2935\n",
      "Method:                           MLE   Df Model:                            7\n",
      "Date:                Wed, 06 Jun 2018   Pseudo R-squ.:                  0.3530\n",
      "Time:                        09:53:02   Log-Likelihood:                -1293.5\n",
      "converged:                       True   LL-Null:                       -1999.1\n",
      "                                        LLR p-value:                1.454e-300\n",
      "==============================================================================\n",
      "                 coef    std err          z      P>|z|      [0.025      0.975]\n",
      "------------------------------------------------------------------------------\n",
      "intercept     -2.9528      0.315     -9.374      0.000      -3.570      -2.335\n",
      "N             -0.2677      0.076     -3.521      0.000      -0.417      -0.119\n",
      "rg            -0.1701      0.013    -13.021      0.000      -0.196      -0.144\n",
      "E              2.5225      0.135     18.714      0.000       2.258       2.787\n",
      "AE            -1.7627      0.126    -13.993      0.000      -2.010      -1.516\n",
      "A_N           -0.3044      0.104     -2.923      0.003      -0.509      -0.100\n",
      "A_E           -0.1661      0.208     -0.799      0.424      -0.573       0.241\n",
      "A_AE           2.8983      0.244     11.875      0.000       2.420       3.377\n",
      "==============================================================================\n",
      "odds ratios:\n",
      "intercept     0.052194\n",
      "N             0.765120\n",
      "rg            0.843595\n",
      "E            12.460011\n",
      "AE            0.171584\n",
      "A_N           0.737568\n",
      "A_E           0.846936\n",
      "A_AE         18.143407\n",
      "dtype: float64\n",
      "Deviance stats 0.999998854748\n"
     ]
    }
   ],
   "source": [
    "y=select_users['type'].values\n",
    "user_list=select_users['user_id'].values\n",
    "x=select_users[['intercept','N','rg','E','AE','A_N','A_E','A_AE']]\n",
    "\n",
    "# \n",
    "logit = sm.Logit(y, x)\n",
    "result=logit.fit(cov_type='cluster',cov_kwds={'groups': user_list})\n",
    "print(result.summary())\n",
    "print( \"odds ratios:\")\n",
    "print( np.exp(result.params))\n",
    "###Goodness of fit checks\n",
    "\n",
    "formula = \"y ~ rg+N+E+AE+A_N+A_E+A_AE\"\n",
    "logit = smf.glm(formula=formula, data=x, family=sm.families.Binomial())\n",
    "result=logit.fit(cov_type='cluster',cov_kwds={'groups': user_list})\n",
    "print ( \"Deviance stats\",1 - stats.chi2.cdf(result.deviance, result.df_resid))"
   ]
  },
  {
   "cell_type": "code",
   "execution_count": null,
   "metadata": {},
   "outputs": [],
   "source": []
  }
 ],
 "metadata": {
  "kernelspec": {
   "display_name": "Python 3",
   "language": "python",
   "name": "python3"
  },
  "language_info": {
   "codemirror_mode": {
    "name": "ipython",
    "version": 3
   },
   "file_extension": ".py",
   "mimetype": "text/x-python",
   "name": "python",
   "nbconvert_exporter": "python",
   "pygments_lexer": "ipython3",
   "version": "3.6.2"
  },
  "toc": {
   "nav_menu": {},
   "number_sections": true,
   "sideBar": true,
   "skip_h1_title": false,
   "title_cell": "Table of Contents",
   "title_sidebar": "Contents",
   "toc_cell": false,
   "toc_position": {},
   "toc_section_display": true,
   "toc_window_display": false
  }
 },
 "nbformat": 4,
 "nbformat_minor": 2
}
