{
 "cells": [
  {
   "cell_type": "code",
   "execution_count": 1,
   "metadata": {
    "collapsed": true
   },
   "outputs": [],
   "source": [
    "from glob import glob\n",
    "import pandas as pd\n",
    "import networkx as nx\n",
    "import itertools"
   ]
  },
  {
   "cell_type": "markdown",
   "metadata": {},
   "source": [
    "# use one file as example"
   ]
  },
  {
   "cell_type": "code",
   "execution_count": 147,
   "metadata": {
    "collapsed": true
   },
   "outputs": [],
   "source": [
    "# read file\n",
    "column_list = 'user_id,access_mode_id,logic_area_name,lac,ci,longtitude,latitude,busi_name,busi_type_name,\\\n",
    "app_name,app_type_name,start_time,up_pack,down_pack,up_flow,down_flow,site_name,site_channel,\\\n",
    "cont_app_id,cont_classify_id,cont_type_id,acce_url'.split(',')\n",
    "\n",
    "userdata=pd.read_csv('/Users/xuhuimin/Documents/lab/lab data/beijingmobile/userexample/user_48100000157489.csv',\\\n",
    "                     names=column_list)"
   ]
  },
  {
   "cell_type": "code",
   "execution_count": 148,
   "metadata": {
    "collapsed": true
   },
   "outputs": [],
   "source": [
    "# clean data\n",
    "user_id=userdata['user_id'].unique()[0]\n",
    "userdata=userdata[userdata['busi_name']!='其他']\n",
    "userdata=userdata.sort_values(by='start_time')[['user_id','busi_name','start_time']]\n",
    "userdata=userdata.drop_duplicates()\n",
    "userdata=userdata.drop(['start_time'],axis=1)"
   ]
  },
  {
   "cell_type": "code",
   "execution_count": 149,
   "metadata": {
    "collapsed": true
   },
   "outputs": [],
   "source": [
    "# pairs\n",
    "\n",
    "busi_list=list(userdata['busi_name'].unique())\n",
    "\n",
    "path='/Users/xuhuimin/Documents/lab/lab data/beijingmobile/busiexample/'\n",
    "file=path+user_id.astype(str)+'.csv'\n",
    "\n",
    "g=nx.Graph()\n",
    "for b in list(itertools.combinations(busi_list,2)):\n",
    "    times=len(userdata[userdata['busi_name']==b[0]])*len(userdata[userdata['busi_name']==b[1]])\n",
    "    g.add_edge(b[0],b[1],weight=times)\n",
    "\n",
    "\n",
    "#        g[b[0]][b[1]]+=1"
   ]
  },
  {
   "cell_type": "code",
   "execution_count": 150,
   "metadata": {
    "collapsed": true
   },
   "outputs": [],
   "source": [
    "nx.write_edgelist(g,file)"
   ]
  },
  {
   "cell_type": "code",
   "execution_count": null,
   "metadata": {
    "collapsed": true
   },
   "outputs": [],
   "source": []
  },
  {
   "cell_type": "markdown",
   "metadata": {},
   "source": [
    "# user ten files as example"
   ]
  },
  {
   "cell_type": "code",
   "execution_count": 2,
   "metadata": {
    "collapsed": true
   },
   "outputs": [],
   "source": [
    "# read files\n",
    "files=glob('/Users/xuhuimin/Documents/lab/lab data/beijingmobile/userexample/*')\n",
    "\n",
    "column_list = 'user_id,access_mode_id,logic_area_name,lac,ci,longtitude,latitude,busi_name,busi_type_name,\\\n",
    "app_name,app_type_name,start_time,up_pack,down_pack,up_flow,down_flow,site_name,site_channel,\\\n",
    "cont_app_id,cont_classify_id,cont_type_id,acce_url'.split(',')\n"
   ]
  },
  {
   "cell_type": "code",
   "execution_count": 4,
   "metadata": {},
   "outputs": [],
   "source": [
    "for f in files:\n",
    "    userdata=pd.read_csv(str(f), names=column_list)\n",
    "    user_id=userdata['user_id'].unique()[0]\n",
    "    userdata=userdata[userdata['busi_name']!='其他']\n",
    "    userdata=userdata.sort_values(by='start_time')[['user_id','busi_name','start_time']]\n",
    "    userdata=userdata.drop_duplicates()\n",
    "    userdata=userdata.drop(['start_time'],axis=1)\n",
    "    \n",
    "    \n",
    "    busi_list=list(userdata['busi_name'].unique())\n",
    "\n",
    "    path='/Users/xuhuimin/Documents/lab/lab data/beijingmobile/busiexample/'\n",
    "    file=path+user_id.astype(str)+'.csv'\n",
    "\n",
    "    g=nx.Graph()\n",
    "    for b in list(itertools.combinations(busi_list,2)):\n",
    "        times=len(userdata[userdata['busi_name']==b[0]])*len(userdata[userdata['busi_name']==b[1]])\n",
    "        g.add_edge(b[0],b[1],weight=times)\n",
    "        \n",
    "    nx.write_edgelist(g,file)  "
   ]
  },
  {
   "cell_type": "code",
   "execution_count": null,
   "metadata": {
    "collapsed": true
   },
   "outputs": [],
   "source": []
  }
 ],
 "metadata": {
  "kernelspec": {
   "display_name": "Python 3",
   "language": "python",
   "name": "python3"
  },
  "language_info": {
   "codemirror_mode": {
    "name": "ipython",
    "version": 3
   },
   "file_extension": ".py",
   "mimetype": "text/x-python",
   "name": "python",
   "nbconvert_exporter": "python",
   "pygments_lexer": "ipython3",
   "version": "3.6.2"
  }
 },
 "nbformat": 4,
 "nbformat_minor": 2
}
