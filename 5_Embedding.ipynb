{
 "cells": [
  {
   "cell_type": "code",
   "execution_count": 1,
   "metadata": {
    "ExecuteTime": {
     "end_time": "2018-10-06T03:52:14.701093Z",
     "start_time": "2018-10-06T03:52:13.836383Z"
    }
   },
   "outputs": [
    {
     "name": "stderr",
     "output_type": "stream",
     "text": [
      "/Users/xuhuimin/anaconda3/lib/python3.6/importlib/_bootstrap.py:205: RuntimeWarning: numpy.dtype size changed, may indicate binary incompatibility. Expected 96, got 88\n",
      "  return f(*args, **kwds)\n",
      "/Users/xuhuimin/anaconda3/lib/python3.6/importlib/_bootstrap.py:205: RuntimeWarning: numpy.dtype size changed, may indicate binary incompatibility. Expected 96, got 88\n",
      "  return f(*args, **kwds)\n",
      "/Users/xuhuimin/anaconda3/lib/python3.6/importlib/_bootstrap.py:205: RuntimeWarning: numpy.dtype size changed, may indicate binary incompatibility. Expected 96, got 88\n",
      "  return f(*args, **kwds)\n"
     ]
    }
   ],
   "source": [
    "from gensim.models import KeyedVectors\n",
    "import pandas as pd\n",
    "import numpy as np\n",
    "import matplotlib.pyplot as plt\n",
    "import sys\n",
    "import gensim\n",
    "import sklearn\n",
    "import numpy as np\n",
    " \n",
    "from gensim.models.doc2vec import Doc2Vec, LabeledSentence"
   ]
  },
  {
   "cell_type": "code",
   "execution_count": 29,
   "metadata": {
    "ExecuteTime": {
     "end_time": "2018-10-06T04:16:43.734695Z",
     "start_time": "2018-10-06T04:16:43.731776Z"
    }
   },
   "outputs": [],
   "source": [
    "docs=['阅读 英语 音乐','新闻 词典 阅读','阅读 英语 新闻']"
   ]
  },
  {
   "cell_type": "code",
   "execution_count": 30,
   "metadata": {
    "ExecuteTime": {
     "end_time": "2018-10-06T04:16:44.297640Z",
     "start_time": "2018-10-06T04:16:44.290119Z"
    }
   },
   "outputs": [],
   "source": [
    "TaggededDocument = gensim.models.doc2vec.TaggedDocument\n",
    "x_train = []\n",
    "#y = np.concatenate(np.ones(len(docs)))\n",
    "for i, text in enumerate(docs):\n",
    "    word_list = text.split(' ')\n",
    "    l = len(word_list)\n",
    "    word_list[l-1] = word_list[l-1].strip()\n",
    "    document = TaggededDocument(word_list, tags=[i])\n",
    "    x_train.append(document)"
   ]
  },
  {
   "cell_type": "code",
   "execution_count": null,
   "metadata": {},
   "outputs": [],
   "source": [
    "TaggededDocument = gensim.models.doc2vec.TaggedDocument\n",
    " \n",
    "def get_datasest():\n",
    "    with open(\"out/text_dict_cut.txt\", 'r') as cf:\n",
    "        docs = cf.readlines()\n",
    "        print len(docs)\n",
    " \n",
    "    x_train = []\n",
    "    #y = np.concatenate(np.ones(len(docs)))\n",
    "    for i, text in enumerate(docs):\n",
    "        word_list = text.split(' ')\n",
    "        l = len(word_list)\n",
    "        word_list[l-1] = word_list[l-1].strip()\n",
    "        document = TaggededDocument(word_list, tags=[i])\n",
    "        x_train.append(document)\n",
    " \n",
    "    return x_train\n",
    "\n",
    "def train(x_train, size=200, epoch_num=1):\n",
    "    model_dm = Doc2Vec(x_train,min_count=1, window = 3, size = size, sample=1e-3, negative=5, workers=4, dm=0, dbow_words=1)\n",
    "    model_dm.train(x_train, total_examples=model_dm.corpus_count, epochs=70)\n",
    "    model_dm.save('1')\n",
    " \n",
    "    return model_dm\n",
    " "
   ]
  },
  {
   "cell_type": "code",
   "execution_count": 68,
   "metadata": {
    "ExecuteTime": {
     "end_time": "2018-10-06T08:54:12.658263Z",
     "start_time": "2018-10-06T08:54:12.650571Z"
    },
    "collapsed": true
   },
   "outputs": [
    {
     "data": {
      "text/plain": [
       "array([ 6.7622279e-04, -1.0080723e-03,  2.3541150e-03, -1.2112401e-03,\n",
       "        1.4886552e-03,  1.8261861e-03, -1.5845146e-03,  8.6700392e-04,\n",
       "        2.3035370e-03, -5.2708137e-04,  1.5514182e-03,  3.5090274e-05,\n",
       "        1.3067872e-03,  1.0636963e-04, -1.3398988e-03,  9.8524976e-04,\n",
       "        4.0045977e-04, -8.9506991e-04, -1.1210610e-03,  1.8146771e-03,\n",
       "       -1.9632252e-03, -2.6442931e-04, -2.3121736e-03,  3.8215943e-04,\n",
       "        1.9612103e-03, -2.1178757e-03,  2.2480555e-03,  1.7343960e-03,\n",
       "       -1.6229064e-03, -1.3066376e-04, -3.4252438e-04, -1.1879039e-03,\n",
       "        2.3889362e-03,  5.8118912e-04,  1.2851042e-03,  1.0565078e-03,\n",
       "        1.2183913e-03,  1.3779454e-04,  2.4956358e-03,  2.2271224e-03,\n",
       "        1.2469091e-03,  8.0888753e-04, -2.1025925e-03, -1.4423035e-03,\n",
       "       -2.7226677e-04, -1.7821037e-03,  4.0450707e-04, -1.8309288e-03,\n",
       "       -1.2345808e-03,  1.9037926e-03,  1.5173628e-03, -1.8514884e-03,\n",
       "       -1.9122858e-03, -1.3761538e-03,  1.7985848e-03, -6.1332685e-04,\n",
       "       -1.2639008e-03,  2.4496953e-03,  1.2726834e-03,  1.8538543e-03,\n",
       "        1.0145580e-03,  1.8590624e-03, -2.4288681e-03, -3.6690300e-04,\n",
       "       -1.1380251e-03,  6.0393050e-04, -2.2961614e-03, -9.1252581e-04,\n",
       "       -2.0813351e-03,  2.7901432e-04, -1.4989767e-03,  1.8741137e-03,\n",
       "        2.3761576e-03, -1.5670912e-03, -1.4873345e-04, -1.3771382e-03,\n",
       "        1.8731123e-04,  2.3999275e-03, -2.1989761e-04,  1.6072795e-03,\n",
       "       -6.7540864e-04,  2.1739644e-03, -2.1734450e-03,  1.6253232e-03,\n",
       "        1.4117032e-03,  6.8541165e-05,  7.0862079e-05, -1.2133508e-03,\n",
       "        1.1501719e-03, -8.0350437e-04, -1.6987204e-04,  2.0757769e-03,\n",
       "        1.9050594e-03, -1.0379305e-05, -2.3973999e-03, -1.8028420e-03,\n",
       "       -2.2010659e-03, -2.2989844e-03,  1.9129197e-03,  2.4432005e-04,\n",
       "        1.0842321e-03,  1.4324187e-03,  3.1879713e-04, -1.5644706e-03,\n",
       "       -1.8417098e-03,  1.2742913e-03, -7.9910975e-04, -1.9546913e-03,\n",
       "       -1.9248538e-03,  6.1463524e-04, -8.1201911e-04, -2.3537795e-03,\n",
       "       -9.3080678e-05,  2.3225071e-03,  3.1785381e-05,  5.2005012e-04,\n",
       "       -3.9043362e-04,  7.4327330e-04,  1.3379841e-03, -3.2244960e-04,\n",
       "        1.1006274e-03,  1.2213211e-03, -1.3412249e-03,  1.8718125e-03,\n",
       "        9.2626381e-04,  5.2095141e-04,  3.6239304e-04,  2.9785890e-04,\n",
       "        1.8116555e-04,  4.6674477e-06, -8.3197876e-05,  7.8612316e-04,\n",
       "       -9.0631476e-04, -6.0199748e-04,  1.1968153e-03, -2.4725031e-03,\n",
       "       -1.9235910e-03,  2.4693657e-04,  2.1209007e-03,  1.4297604e-03,\n",
       "       -9.7546616e-04, -1.7108054e-04,  1.7291280e-03,  1.6939363e-03,\n",
       "        2.1027694e-03,  1.5068804e-03, -7.5970820e-05, -2.4284150e-03,\n",
       "        1.2805082e-03,  2.0438349e-03,  4.4289722e-05, -3.6318906e-04,\n",
       "        1.2718579e-04,  9.8478666e-04, -8.1866770e-04,  1.6851499e-03,\n",
       "       -1.0313723e-03, -1.0307442e-03,  1.3671117e-03, -1.2987308e-03,\n",
       "        2.0296206e-03,  5.7248335e-04, -5.3018448e-04, -2.2065989e-03,\n",
       "       -1.4909011e-03, -1.4406566e-03,  3.1299048e-04,  2.2342738e-03,\n",
       "       -5.9751782e-04,  9.7987452e-04, -2.2491310e-03, -1.0569377e-03,\n",
       "       -1.9007832e-03,  1.2393642e-03, -7.2301301e-04, -2.1225677e-03,\n",
       "        7.3821808e-04,  5.8809045e-04,  6.7797268e-04, -1.9034152e-03,\n",
       "        1.5918828e-03,  1.3963792e-03, -4.8184735e-04, -1.8434537e-03,\n",
       "        1.6854744e-03,  1.3996726e-04, -3.4029286e-05,  1.8103569e-04,\n",
       "        1.2965568e-03,  9.0402004e-04, -8.8822970e-04,  2.1166096e-03,\n",
       "       -1.9828433e-03, -1.2519819e-03,  2.3575055e-03, -8.3645646e-05,\n",
       "       -1.5966592e-03,  2.4624655e-04,  2.0286953e-03, -1.3175319e-03],\n",
       "      dtype=float32)"
      ]
     },
     "execution_count": 68,
     "metadata": {},
     "output_type": "execute_result"
    }
   ],
   "source": [
    "model_dm['阅读']"
   ]
  },
  {
   "cell_type": "code",
   "execution_count": 47,
   "metadata": {
    "ExecuteTime": {
     "end_time": "2018-10-06T08:22:44.304640Z",
     "start_time": "2018-10-06T08:22:44.297608Z"
    },
    "collapsed": true
   },
   "outputs": [
    {
     "data": {
      "text/plain": [
       "array([-4.38151532e-04,  1.97133608e-03,  9.02359956e-04, -1.90330832e-03,\n",
       "       -2.25364952e-03, -9.35581513e-04, -3.43863532e-04, -7.91899161e-04,\n",
       "        1.42746605e-04,  1.93279423e-03,  5.89195406e-04, -2.38669547e-03,\n",
       "        7.70407860e-05, -2.11676536e-03,  1.88751298e-03,  1.07733661e-03,\n",
       "        8.11981408e-06, -4.52957349e-04, -7.84616626e-04,  1.46963669e-03,\n",
       "        5.95955586e-04,  3.31333868e-04,  6.43344480e-04, -2.32008705e-03,\n",
       "       -1.70936796e-03,  1.55130413e-03,  1.44831394e-03,  6.30801078e-04,\n",
       "        9.66397580e-04,  2.41144933e-03,  1.95313967e-03,  2.14943150e-03,\n",
       "       -9.72731446e-04,  2.44617672e-03, -9.69777830e-06, -2.02367618e-03,\n",
       "       -2.41232081e-03, -2.03391607e-03, -1.69617147e-03, -2.01953109e-03,\n",
       "        5.02182171e-04, -3.74175230e-04, -4.76412184e-04, -7.44894729e-04,\n",
       "        5.82692970e-04,  1.60890387e-03,  2.06590025e-03,  1.92133768e-04,\n",
       "       -1.91510166e-03,  1.36470376e-03,  3.34558397e-04, -5.64013142e-04,\n",
       "        7.79424212e-04, -2.13031634e-03,  8.96733836e-04, -2.46898201e-03,\n",
       "        2.27621128e-03, -1.61982689e-03,  4.87046113e-04, -2.06091395e-03,\n",
       "        4.94065753e-04,  7.00568024e-04,  3.42495972e-04,  1.48612983e-03,\n",
       "       -2.12798407e-03,  1.69934006e-03,  2.05617165e-03,  1.05990066e-05,\n",
       "        1.20226806e-03,  1.12756400e-03, -1.57638569e-03, -1.16491644e-03,\n",
       "       -1.22320125e-04,  1.17807656e-04, -6.78134675e-04,  1.87643024e-03,\n",
       "       -1.18568097e-03,  2.31934874e-03,  1.60443410e-03, -1.04762323e-03,\n",
       "        8.04003503e-04,  1.36238057e-04,  4.33859794e-04,  7.26540224e-04,\n",
       "        1.33771903e-03,  1.02011580e-03,  1.96792744e-03,  3.22264299e-04,\n",
       "       -4.11050394e-04,  1.51289289e-03, -2.24900455e-03,  2.40799622e-03,\n",
       "        2.24439682e-05,  1.96604966e-03, -1.35851977e-03,  2.47651525e-03,\n",
       "        2.35319044e-03,  6.79762044e-04, -2.47337879e-03,  1.60039007e-03,\n",
       "        2.51166103e-03,  9.19744489e-04, -3.61123006e-04, -1.08034513e-03,\n",
       "       -4.40733507e-04,  1.13804184e-03,  1.74733321e-03,  1.18199037e-03,\n",
       "        7.81695882e-04, -2.22408725e-03,  1.79503823e-03,  1.63463189e-03,\n",
       "        2.46836804e-03,  1.41888880e-03, -1.92742492e-03,  1.04041712e-04,\n",
       "        1.97146367e-03,  9.00023151e-04, -1.80374575e-03,  6.85152714e-04,\n",
       "       -1.70831138e-03,  9.79381264e-04,  8.15241583e-05, -2.12765997e-03,\n",
       "        1.05230801e-03,  2.23555230e-03, -8.62781017e-04, -2.30502337e-03,\n",
       "        2.08592648e-03, -1.96511671e-03,  1.76741407e-04, -2.36517005e-03,\n",
       "        1.51199335e-03, -6.21158048e-04, -2.01488077e-03, -1.17858511e-03,\n",
       "        1.60925047e-05, -7.23578250e-06, -1.26274617e-03, -2.18383549e-03,\n",
       "        1.95868104e-03,  1.41471438e-03,  9.53240786e-04,  7.20788725e-04,\n",
       "        9.94267990e-04, -2.57199681e-05,  8.65241163e-04,  1.32888579e-03,\n",
       "        2.27920653e-04,  2.08740402e-03,  2.45118234e-03, -1.05031657e-04,\n",
       "        1.29272696e-03, -2.30020424e-03,  1.41847087e-03,  2.23794929e-03,\n",
       "        2.50444026e-03,  3.72112991e-04,  1.39281736e-03, -1.59424974e-03,\n",
       "       -1.99002610e-03,  1.21181342e-03,  4.73171531e-04,  1.37391465e-03,\n",
       "        1.04009465e-03, -2.09039776e-03,  1.96196488e-03,  2.50079832e-03,\n",
       "        1.34875975e-03, -1.47093122e-03,  3.92566726e-05, -2.73289304e-04,\n",
       "        2.46140431e-03,  2.44975067e-03,  9.72012116e-04,  8.21167996e-05,\n",
       "        2.17191153e-03, -2.22665770e-03, -4.26971492e-05, -1.60072092e-03,\n",
       "       -1.43744017e-03, -6.31973962e-05,  6.50276779e-04, -9.01371299e-04,\n",
       "       -1.95553456e-03, -4.03080077e-04, -5.02283801e-04,  3.98171484e-04,\n",
       "       -1.45841541e-03,  9.36507204e-05,  2.09662947e-03, -2.44578067e-03,\n",
       "       -2.32630759e-03, -1.42188894e-03,  8.74070625e-04,  1.49951444e-03,\n",
       "        1.17524492e-03, -6.29047747e-04,  1.40078797e-03,  2.14475766e-03],\n",
       "      dtype=float32)"
      ]
     },
     "execution_count": 47,
     "metadata": {},
     "output_type": "execute_result"
    }
   ],
   "source": [
    "model_dm.docvecs[0]"
   ]
  },
  {
   "cell_type": "code",
   "execution_count": 71,
   "metadata": {
    "ExecuteTime": {
     "end_time": "2018-10-06T09:26:15.060715Z",
     "start_time": "2018-10-06T09:14:21.999544Z"
    }
   },
   "outputs": [
    {
     "ename": "KeyboardInterrupt",
     "evalue": "",
     "output_type": "error",
     "traceback": [
      "\u001b[0;31m---------------------------------------------------------------------------\u001b[0m",
      "\u001b[0;31mKeyboardInterrupt\u001b[0m                         Traceback (most recent call last)",
      "\u001b[0;32m~/anaconda3/lib/python3.6/site-packages/pandas/io/parsers.py\u001b[0m in \u001b[0;36mread\u001b[0;34m(self, nrows)\u001b[0m\n\u001b[1;32m   1747\u001b[0m         \u001b[0;32mtry\u001b[0m\u001b[0;34m:\u001b[0m\u001b[0;34m\u001b[0m\u001b[0m\n\u001b[0;32m-> 1748\u001b[0;31m             \u001b[0mdata\u001b[0m \u001b[0;34m=\u001b[0m \u001b[0mself\u001b[0m\u001b[0;34m.\u001b[0m\u001b[0m_reader\u001b[0m\u001b[0;34m.\u001b[0m\u001b[0mread\u001b[0m\u001b[0;34m(\u001b[0m\u001b[0mnrows\u001b[0m\u001b[0;34m)\u001b[0m\u001b[0;34m\u001b[0m\u001b[0m\n\u001b[0m\u001b[1;32m   1749\u001b[0m         \u001b[0;32mexcept\u001b[0m \u001b[0mStopIteration\u001b[0m\u001b[0;34m:\u001b[0m\u001b[0;34m\u001b[0m\u001b[0m\n",
      "\u001b[0;32mpandas/_libs/parsers.pyx\u001b[0m in \u001b[0;36mpandas._libs.parsers.TextReader.read (pandas/_libs/parsers.c:10862)\u001b[0;34m()\u001b[0m\n",
      "\u001b[0;32mpandas/_libs/parsers.pyx\u001b[0m in \u001b[0;36mpandas._libs.parsers.TextReader._read_low_memory (pandas/_libs/parsers.c:11138)\u001b[0;34m()\u001b[0m\n",
      "\u001b[0;32mpandas/_libs/parsers.pyx\u001b[0m in \u001b[0;36mpandas._libs.parsers.TextReader._read_rows (pandas/_libs/parsers.c:12175)\u001b[0;34m()\u001b[0m\n",
      "\u001b[0;32mpandas/_libs/parsers.pyx\u001b[0m in \u001b[0;36mpandas._libs.parsers.TextReader._convert_column_data (pandas/_libs/parsers.c:14136)\u001b[0;34m()\u001b[0m\n",
      "\u001b[0;32mpandas/_libs/parsers.pyx\u001b[0m in \u001b[0;36mpandas._libs.parsers.TextReader._convert_tokens (pandas/_libs/parsers.c:14858)\u001b[0;34m()\u001b[0m\n",
      "\u001b[0;32mpandas/_libs/parsers.pyx\u001b[0m in \u001b[0;36mpandas._libs.parsers.TextReader._convert_with_dtype (pandas/_libs/parsers.c:15629)\u001b[0;34m()\u001b[0m\n",
      "\u001b[0;32m~/anaconda3/lib/python3.6/site-packages/pandas/core/dtypes/common.py\u001b[0m in \u001b[0;36mis_integer_dtype\u001b[0;34m(arr_or_dtype)\u001b[0m\n\u001b[1;32m    739\u001b[0m \u001b[0;34m\u001b[0m\u001b[0m\n\u001b[0;32m--> 740\u001b[0;31m \u001b[0;32mdef\u001b[0m \u001b[0mis_integer_dtype\u001b[0m\u001b[0;34m(\u001b[0m\u001b[0marr_or_dtype\u001b[0m\u001b[0;34m)\u001b[0m\u001b[0;34m:\u001b[0m\u001b[0;34m\u001b[0m\u001b[0m\n\u001b[0m\u001b[1;32m    741\u001b[0m     \"\"\"\n",
      "\u001b[0;31mKeyboardInterrupt\u001b[0m: ",
      "\nDuring handling of the above exception, another exception occurred:\n",
      "\u001b[0;31mKeyboardInterrupt\u001b[0m                         Traceback (most recent call last)",
      "\u001b[0;32m<ipython-input-71-d6b47a0b2677>\u001b[0m in \u001b[0;36m<module>\u001b[0;34m()\u001b[0m\n\u001b[0;32m----> 1\u001b[0;31m \u001b[0mnode\u001b[0m\u001b[0;34m=\u001b[0m\u001b[0mpd\u001b[0m\u001b[0;34m.\u001b[0m\u001b[0mread_csv\u001b[0m\u001b[0;34m(\u001b[0m\u001b[0;34m'/Users/xuhuimin/Documents/lab/labdata/beijingmobile/node.csv'\u001b[0m\u001b[0;34m,\u001b[0m\u001b[0musecols\u001b[0m\u001b[0;34m=\u001b[0m\u001b[0;34m[\u001b[0m\u001b[0;36m0\u001b[0m\u001b[0;34m,\u001b[0m\u001b[0;36m3\u001b[0m\u001b[0;34m,\u001b[0m\u001b[0;36m5\u001b[0m\u001b[0;34m]\u001b[0m\u001b[0;34m)\u001b[0m\u001b[0;34m\u001b[0m\u001b[0m\n\u001b[0m",
      "\u001b[0;32m~/anaconda3/lib/python3.6/site-packages/pandas/io/parsers.py\u001b[0m in \u001b[0;36mparser_f\u001b[0;34m(filepath_or_buffer, sep, delimiter, header, names, index_col, usecols, squeeze, prefix, mangle_dupe_cols, dtype, engine, converters, true_values, false_values, skipinitialspace, skiprows, nrows, na_values, keep_default_na, na_filter, verbose, skip_blank_lines, parse_dates, infer_datetime_format, keep_date_col, date_parser, dayfirst, iterator, chunksize, compression, thousands, decimal, lineterminator, quotechar, quoting, escapechar, comment, encoding, dialect, tupleize_cols, error_bad_lines, warn_bad_lines, skipfooter, skip_footer, doublequote, delim_whitespace, as_recarray, compact_ints, use_unsigned, low_memory, buffer_lines, memory_map, float_precision)\u001b[0m\n\u001b[1;32m    653\u001b[0m                     skip_blank_lines=skip_blank_lines)\n\u001b[1;32m    654\u001b[0m \u001b[0;34m\u001b[0m\u001b[0m\n\u001b[0;32m--> 655\u001b[0;31m         \u001b[0;32mreturn\u001b[0m \u001b[0m_read\u001b[0m\u001b[0;34m(\u001b[0m\u001b[0mfilepath_or_buffer\u001b[0m\u001b[0;34m,\u001b[0m \u001b[0mkwds\u001b[0m\u001b[0;34m)\u001b[0m\u001b[0;34m\u001b[0m\u001b[0m\n\u001b[0m\u001b[1;32m    656\u001b[0m \u001b[0;34m\u001b[0m\u001b[0m\n\u001b[1;32m    657\u001b[0m     \u001b[0mparser_f\u001b[0m\u001b[0;34m.\u001b[0m\u001b[0m__name__\u001b[0m \u001b[0;34m=\u001b[0m \u001b[0mname\u001b[0m\u001b[0;34m\u001b[0m\u001b[0m\n",
      "\u001b[0;32m~/anaconda3/lib/python3.6/site-packages/pandas/io/parsers.py\u001b[0m in \u001b[0;36m_read\u001b[0;34m(filepath_or_buffer, kwds)\u001b[0m\n\u001b[1;32m    409\u001b[0m \u001b[0;34m\u001b[0m\u001b[0m\n\u001b[1;32m    410\u001b[0m     \u001b[0;32mtry\u001b[0m\u001b[0;34m:\u001b[0m\u001b[0;34m\u001b[0m\u001b[0m\n\u001b[0;32m--> 411\u001b[0;31m         \u001b[0mdata\u001b[0m \u001b[0;34m=\u001b[0m \u001b[0mparser\u001b[0m\u001b[0;34m.\u001b[0m\u001b[0mread\u001b[0m\u001b[0;34m(\u001b[0m\u001b[0mnrows\u001b[0m\u001b[0;34m)\u001b[0m\u001b[0;34m\u001b[0m\u001b[0m\n\u001b[0m\u001b[1;32m    412\u001b[0m     \u001b[0;32mfinally\u001b[0m\u001b[0;34m:\u001b[0m\u001b[0;34m\u001b[0m\u001b[0m\n\u001b[1;32m    413\u001b[0m         \u001b[0mparser\u001b[0m\u001b[0;34m.\u001b[0m\u001b[0mclose\u001b[0m\u001b[0;34m(\u001b[0m\u001b[0;34m)\u001b[0m\u001b[0;34m\u001b[0m\u001b[0m\n",
      "\u001b[0;32m~/anaconda3/lib/python3.6/site-packages/pandas/io/parsers.py\u001b[0m in \u001b[0;36mread\u001b[0;34m(self, nrows)\u001b[0m\n\u001b[1;32m   1003\u001b[0m                 \u001b[0;32mraise\u001b[0m \u001b[0mValueError\u001b[0m\u001b[0;34m(\u001b[0m\u001b[0;34m'skipfooter not supported for iteration'\u001b[0m\u001b[0;34m)\u001b[0m\u001b[0;34m\u001b[0m\u001b[0m\n\u001b[1;32m   1004\u001b[0m \u001b[0;34m\u001b[0m\u001b[0m\n\u001b[0;32m-> 1005\u001b[0;31m         \u001b[0mret\u001b[0m \u001b[0;34m=\u001b[0m \u001b[0mself\u001b[0m\u001b[0;34m.\u001b[0m\u001b[0m_engine\u001b[0m\u001b[0;34m.\u001b[0m\u001b[0mread\u001b[0m\u001b[0;34m(\u001b[0m\u001b[0mnrows\u001b[0m\u001b[0;34m)\u001b[0m\u001b[0;34m\u001b[0m\u001b[0m\n\u001b[0m\u001b[1;32m   1006\u001b[0m \u001b[0;34m\u001b[0m\u001b[0m\n\u001b[1;32m   1007\u001b[0m         \u001b[0;32mif\u001b[0m \u001b[0mself\u001b[0m\u001b[0;34m.\u001b[0m\u001b[0moptions\u001b[0m\u001b[0;34m.\u001b[0m\u001b[0mget\u001b[0m\u001b[0;34m(\u001b[0m\u001b[0;34m'as_recarray'\u001b[0m\u001b[0;34m)\u001b[0m\u001b[0;34m:\u001b[0m\u001b[0;34m\u001b[0m\u001b[0m\n",
      "\u001b[0;32m~/anaconda3/lib/python3.6/site-packages/pandas/io/parsers.py\u001b[0m in \u001b[0;36mread\u001b[0;34m(self, nrows)\u001b[0m\n\u001b[1;32m   1746\u001b[0m     \u001b[0;32mdef\u001b[0m \u001b[0mread\u001b[0m\u001b[0;34m(\u001b[0m\u001b[0mself\u001b[0m\u001b[0;34m,\u001b[0m \u001b[0mnrows\u001b[0m\u001b[0;34m=\u001b[0m\u001b[0;32mNone\u001b[0m\u001b[0;34m)\u001b[0m\u001b[0;34m:\u001b[0m\u001b[0;34m\u001b[0m\u001b[0m\n\u001b[1;32m   1747\u001b[0m         \u001b[0;32mtry\u001b[0m\u001b[0;34m:\u001b[0m\u001b[0;34m\u001b[0m\u001b[0m\n\u001b[0;32m-> 1748\u001b[0;31m             \u001b[0mdata\u001b[0m \u001b[0;34m=\u001b[0m \u001b[0mself\u001b[0m\u001b[0;34m.\u001b[0m\u001b[0m_reader\u001b[0m\u001b[0;34m.\u001b[0m\u001b[0mread\u001b[0m\u001b[0;34m(\u001b[0m\u001b[0mnrows\u001b[0m\u001b[0;34m)\u001b[0m\u001b[0;34m\u001b[0m\u001b[0m\n\u001b[0m\u001b[1;32m   1749\u001b[0m         \u001b[0;32mexcept\u001b[0m \u001b[0mStopIteration\u001b[0m\u001b[0;34m:\u001b[0m\u001b[0;34m\u001b[0m\u001b[0m\n\u001b[1;32m   1750\u001b[0m             \u001b[0;32mif\u001b[0m \u001b[0mself\u001b[0m\u001b[0;34m.\u001b[0m\u001b[0m_first_chunk\u001b[0m\u001b[0;34m:\u001b[0m\u001b[0;34m\u001b[0m\u001b[0m\n",
      "\u001b[0;31mKeyboardInterrupt\u001b[0m: "
     ]
    }
   ],
   "source": [
    "node=pd.read_csv('/Users/xuhuimin/Documents/lab/labdata/beijingmobile/node.csv',usecols=[0,3,5])"
   ]
  },
  {
   "cell_type": "code",
   "execution_count": null,
   "metadata": {},
   "outputs": [],
   "source": []
  }
 ],
 "metadata": {
  "kernelspec": {
   "display_name": "Python 3",
   "language": "python",
   "name": "python3"
  },
  "language_info": {
   "codemirror_mode": {
    "name": "ipython",
    "version": 3
   },
   "file_extension": ".py",
   "mimetype": "text/x-python",
   "name": "python",
   "nbconvert_exporter": "python",
   "pygments_lexer": "ipython3",
   "version": "3.6.2"
  },
  "toc": {
   "nav_menu": {},
   "number_sections": true,
   "sideBar": true,
   "skip_h1_title": false,
   "title_cell": "Table of Contents",
   "title_sidebar": "Contents",
   "toc_cell": false,
   "toc_position": {},
   "toc_section_display": true,
   "toc_window_display": false
  }
 },
 "nbformat": 4,
 "nbformat_minor": 2
}
