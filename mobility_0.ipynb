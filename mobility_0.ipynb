{
 "cells": [
  {
   "cell_type": "code",
   "execution_count": 1,
   "metadata": {},
   "outputs": [],
   "source": [
    "import pandas as pd\n",
    "from glob import glob\n",
    "import itertools\n",
    "from collections import Counter\n",
    "import numpy as np\n",
    "import numpy\n",
    "import math\n",
    "import matplotlib.pylab as plt\n",
    "import os\n",
    "import networkx as nx\n",
    "from pypinyin import lazy_pinyin"
   ]
  },
  {
   "cell_type": "code",
   "execution_count": 37,
   "metadata": {
    "scrolled": true
   },
   "outputs": [],
   "source": [
    "# first put all the unique nodes together, second all pair combinations together,third pair combinations for every user\n",
    "files=glob('./siteexample1/allusers/*')\n",
    "for f in files:\n",
    "    user=f.split('/')[-1].split('.')[0]\n",
    "    userdata=pd.read_csv(f,names=['user_id','longtitude','latitude','app_name','app_type_name','start_time'])\n",
    "    userdata[userdata['longtitude'].astype('str')!='nan']\n",
    "    userdata=userdata[userdata['latitude'].astype('str')!='nan']\n",
    "    userdata['location']=(userdata['longtitude'].astype('str')+','+userdata['latitude'].astype('str')).values\n",
    "    userdata=userdata[userdata['app_name']!='其他']\n",
    "    userdata=userdata[['user_id','location']]\n",
    "    userdata=userdata.drop_duplicates()\n",
    "    \n",
    "    userdata.to_csv('./siteexample1/location/node.csv',header=False,mode='a+')\n",
    "    \n",
    "    app_list=userdata['location'].values\n",
    "    pair=list(itertools.combinations(app_list,2))\n",
    "    data=pd.DataFrame(pair)\n",
    "    \n",
    "    for i in range(len(data.values)):\n",
    "        if data.values[i][0].split(',')[0]+data.values[0][0].split(',')[1]>data.values[i][1].split(',')[0]+data.values[0][0].split(',')[1]:\n",
    "            data.values[i][0],data.values[i][1]=data.values[i][1],data.values[i][0]\n",
    "    \n",
    "    data.to_csv('./siteexample1/location/pair.csv',header=False,mode='a+')\n",
    "    \n",
    "    with open('./siteexample1/location/pair/' + str(user) +'.csv', 'a+') as f:\n",
    "        data.to_csv(f,header=False)"
   ]
  },
  {
   "cell_type": "code",
   "execution_count": 39,
   "metadata": {},
   "outputs": [],
   "source": [
    "# observed values\n",
    "app_obs=pd.read_csv('./siteexample1/location/pair.csv',names=['node1','node2'],index_col=0)\n",
    "app_obs['pair']=app_obs['node1'].astype('str')+' '+app_obs['node2'].astype('str')\n",
    "counterdict=Counter(app_obs['pair'].values)\n",
    "counterdict=pd.DataFrame(list(counterdict.items()),columns=['pair','app_obs'])\n",
    "counterdict.to_csv('./siteexample1/location/observed_value.csv')    "
   ]
  },
  {
   "cell_type": "code",
   "execution_count": 40,
   "metadata": {},
   "outputs": [],
   "source": [
    "# expected values\n",
    "for i in range (10): # reconstruct random network for 10 times\n",
    "    name='app_exp'+str(i)\n",
    "    name=pd.read_csv('./siteexample1/location/node.csv',index_col=0,names=['user_id','app_name'])\n",
    "    numpy.random.shuffle(name['app_name'].values) # shuffle the data\n",
    "        \n",
    "    users=name['user_id'].drop_duplicates()\n",
    "    groups=name.groupby('user_id')\n",
    "    \n",
    "    path='./siteexample1/location/expected_value/'\n",
    "    f=path+'app_exp'+str(i)+'.csv'\n",
    "\n",
    "    for user in users:\n",
    "        userdata=groups.get_group(user)\n",
    "        userdata=userdata.drop_duplicates()\n",
    "\n",
    "        app_list=userdata['app_name'].values\n",
    "        pair=list(itertools.combinations(app_list,2))\n",
    "        app_exp=pd.DataFrame(pair)\n",
    "        app_exp.to_csv(f,header=0,mode='a+')\n",
    "\n",
    "    app_exp=pd.read_csv(f,names=['node1','node2'])\n",
    "    \n",
    "    for i in range(len(app_exp.values)):\n",
    "        if app_exp.values[i][0].split(',')[0]+app_exp.values[0][0].split(',')[1]>app_exp.values[i][1].split(',')[0]+app_exp.values[0][0].split(',')[1]:\n",
    "            app_exp.values[i][0],app_exp.values[i][1]=app_exp.values[i][1],app_exp.values[i][0]\n",
    "            \n",
    "    app_exp['pair']=app_exp['node1'].astype('str')+' '+app_exp['node2'].astype('str')\n",
    "    counterdict=Counter(app_exp['pair'].values)\n",
    "    counterdict=pd.DataFrame(list(counterdict.items()),columns=['pair','app_obs'])\n",
    "    counterdict.to_csv(f,header=0,mode='w')"
   ]
  },
  {
   "cell_type": "code",
   "execution_count": 41,
   "metadata": {},
   "outputs": [
    {
     "name": "stderr",
     "output_type": "stream",
     "text": [
      "/Users/xuhuimin/anaconda3/lib/python3.6/site-packages/numpy/lib/arraysetops.py:463: FutureWarning: elementwise comparison failed; returning scalar instead, but in the future will perform elementwise comparison\n",
      "  mask |= (ar1 == a)\n"
     ]
    }
   ],
   "source": [
    "# combine observed value and expected value\n",
    "files=glob('./siteexample1/location/expected_value/*')\n",
    "\n",
    "for f in files:\n",
    "    name=f.split('/')[-1].split('.')[0]\n",
    "    data=pd.read_csv(f,names=['pair','count'])\n",
    "    diction=dict(data[['pair','count']].values)\n",
    "    z_score=pd.read_csv('./siteexample1/location/observed_value.csv',index_col=0)\n",
    "    z_score[name]=z_score['pair'].apply(lambda x: diction[x]\n",
    "                                                    if x in diction\n",
    "                                                    else numpy.nan)\n",
    "    z_score.to_csv('./siteexample1/location/observed_value.csv')"
   ]
  },
  {
   "cell_type": "code",
   "execution_count": 46,
   "metadata": {},
   "outputs": [
    {
     "data": {
      "text/plain": [
       "1330596"
      ]
     },
     "execution_count": 46,
     "metadata": {},
     "output_type": "execute_result"
    }
   ],
   "source": [
    "len(z_score[z_score['app_obs']!=1])"
   ]
  },
  {
   "cell_type": "code",
   "execution_count": 2,
   "metadata": {},
   "outputs": [
    {
     "name": "stderr",
     "output_type": "stream",
     "text": [
      "/Users/xuhuimin/anaconda3/lib/python3.6/site-packages/numpy/lib/arraysetops.py:463: FutureWarning: elementwise comparison failed; returning scalar instead, but in the future will perform elementwise comparison\n",
      "  mask |= (ar1 == a)\n"
     ]
    }
   ],
   "source": [
    "# z_score\n",
    "z_score=pd.read_csv('./siteexample1/location/observed_value.csv',index_col=0)\n",
    "z_score=z_score.fillna(0)\n",
    "mean=z_score.iloc[:,[x for x in range(2,12)]].mean(axis=1)\n",
    "std=z_score.iloc[:,[x for x in range(2,12)]].std(axis=1)\n",
    "z_score['z_score']=(z_score['app_obs']-mean)/std\n",
    "z_score.to_csv('./siteexample1/location/observed_value.csv')"
   ]
  },
  {
   "cell_type": "code",
   "execution_count": 3,
   "metadata": {},
   "outputs": [],
   "source": [
    "z_score=z_score[~z_score.isin([numpy.nan, numpy.inf, -numpy.inf]).any(1)]"
   ]
  },
  {
   "cell_type": "code",
   "execution_count": 50,
   "metadata": {},
   "outputs": [],
   "source": [
    "z_score=pd.read_csv('./siteexample1/location/observed_value.csv',usecols=['pair','z_score'])\n",
    "diction=dict(z_score.values)\n",
    "\n",
    "files=glob('./siteexample1/location/pair/*')\n",
    "\n",
    "for f in files:\n",
    "    data=pd.read_csv(f,names=['node1','node2'])\n",
    "    data['pair']=data['node1'].astype('str')+' '+data['node2'].astype('str')\n",
    "    data['z_score']=data['pair'].apply(lambda x: diction[x]\n",
    "                                  if x in diction\n",
    "                                   else np.nan)\n",
    "    data.to_csv(f)"
   ]
  },
  {
   "cell_type": "code",
   "execution_count": 51,
   "metadata": {},
   "outputs": [
    {
     "name": "stderr",
     "output_type": "stream",
     "text": [
      "/Users/xuhuimin/anaconda3/lib/python3.6/site-packages/numpy/lib/function_base.py:4011: RuntimeWarning: Invalid value encountered in median\n",
      "  r = func(a, **kwargs)\n",
      "/Users/xuhuimin/anaconda3/lib/python3.6/site-packages/numpy/lib/function_base.py:4269: RuntimeWarning: Invalid value encountered in percentile\n",
      "  interpolation=interpolation)\n",
      "/Users/xuhuimin/anaconda3/lib/python3.6/site-packages/numpy/lib/function_base.py:4387: RuntimeWarning: invalid value encountered in multiply\n",
      "  x2 = take(ap, indices_above, axis=axis) * weights_above\n"
     ]
    }
   ],
   "source": [
    "# four categories group by z_score\n",
    "files=glob('./siteexample1/location/pair/*')\n",
    "lista=[]\n",
    "listb=[]\n",
    "listc=[]\n",
    "for f in files:\n",
    "    data=pd.read_csv(f)\n",
    "    if len(data['z_score'])>0:\n",
    "        user_id=f.split('/')[-1].split('.')[0]\n",
    "        lista.append(user_id)\n",
    "        a=numpy.array(data['z_score'].values)\n",
    "        median=numpy.median(a)\n",
    "        listb.append(median)\n",
    "        pertentile_10=numpy.percentile(a,10)\n",
    "        listc.append(pertentile_10)\n",
    "df=pd.DataFrame([lista,listb,listc]).T\n",
    "df.columns=['user_id','median','pertentile_10']\n",
    "df.to_csv('./siteexample1/location/zscore_category.csv')"
   ]
  },
  {
   "cell_type": "code",
   "execution_count": null,
   "metadata": {},
   "outputs": [],
   "source": []
  }
 ],
 "metadata": {
  "kernelspec": {
   "display_name": "Python 3",
   "language": "python",
   "name": "python3"
  },
  "language_info": {
   "codemirror_mode": {
    "name": "ipython",
    "version": 3
   },
   "file_extension": ".py",
   "mimetype": "text/x-python",
   "name": "python",
   "nbconvert_exporter": "python",
   "pygments_lexer": "ipython3",
   "version": "3.6.2"
  },
  "toc": {
   "nav_menu": {},
   "number_sections": true,
   "sideBar": true,
   "skip_h1_title": false,
   "title_cell": "Table of Contents",
   "title_sidebar": "Contents",
   "toc_cell": false,
   "toc_position": {},
   "toc_section_display": true,
   "toc_window_display": false
  }
 },
 "nbformat": 4,
 "nbformat_minor": 2
}
