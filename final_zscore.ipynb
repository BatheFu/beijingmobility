{
 "cells": [
  {
   "cell_type": "code",
   "execution_count": 2,
   "metadata": {
    "collapsed": true
   },
   "outputs": [],
   "source": [
    "import pandas as pd\n",
    "from glob import glob\n",
    "import itertools\n",
    "from collections import Counter\n",
    "import numpy as np\n",
    "import math\n",
    "%matplotlib inline\n",
    "import matplotlib.pyplot as plt\n",
    "import time\n",
    "from pandas.tools.plotting import scatter_matrix\n",
    "import statsmodels.api as sm\n",
    "import powerlaw"
   ]
  },
  {
   "cell_type": "code",
   "execution_count": null,
   "metadata": {},
   "outputs": [],
   "source": [
    "# first put all the unique nodes together, second all pair combinations together,third pair combinations for every user\n",
    "files=glob('/Users/xuhuimin/Documents/lab/lab data/beijingmobile/dateexample/allusers/*')\n",
    "for f in files:\n",
    "    user=f.split('/')[-1].split('.')[0]\n",
    "    userdata=pd.read_csv(f,names=['user_id','busi_name','start_time'])\n",
    "    userdata=userdata.drop(['start_time'],axis=1)\n",
    "    userdata=userdata.drop_duplicates()\n",
    "    userdata=userdata[userdata['busi_name']!='其他']\n",
    "    \n",
    "    userdata.to_csv('/Users/xuhuimin/Documents/lab/lab data/beijingmobile/dateexample/node.csv',header=False,mode='a+')\n",
    "    \n",
    "    busi_list=userdata['busi_name'].values\n",
    "    pair=list(itertools.combinations(busi_list,2))\n",
    "    data=pd.DataFrame(pair)\n",
    "    data.to_csv('/Users/xuhuimin/Documents/lab/lab data/beijingmobile/dateexample/pair.csv',header=False,mode='a+')\n",
    "    \n",
    "        \n",
    "    with open('/Users/xuhuimin/Documents/lab/lab data/beijingmobile/dateexample/pair/' + str(user) +'.csv', 'a+') as f:\n",
    "        data.to_csv(f,header=False)"
   ]
  },
  {
   "cell_type": "code",
   "execution_count": 3,
   "metadata": {},
   "outputs": [
    {
     "name": "stderr",
     "output_type": "stream",
     "text": [
      "/Users/xuhuimin/anaconda3/lib/python3.6/site-packages/numpy/lib/arraysetops.py:463: FutureWarning: elementwise comparison failed; returning scalar instead, but in the future will perform elementwise comparison\n",
      "  mask |= (ar1 == a)\n"
     ]
    }
   ],
   "source": [
    "# observed value\n",
    "busi_obs=pd.read_csv('/Users/xuhuimin/Documents/lab/lab data/beijingmobile/busicleaning1.csv',index_col=0)\n",
    "busi_obs['pair']=busi_obs['node1'].astype('str')+' '+busi_obs['node2'].astype('str')\n",
    "counterdict=Counter(busi_obs['pair'].values)\n",
    "counterdict=pd.DataFrame(list(counterdict.items()),columns=['pair','busi_obs'])\n",
    "counterdict.to_csv('/Users/xuhuimin/Documents/lab/lab data/beijingmobile/all_z_score.csv')"
   ]
  },
  {
   "cell_type": "code",
   "execution_count": null,
   "metadata": {},
   "outputs": [
    {
     "name": "stderr",
     "output_type": "stream",
     "text": [
      "/Users/xuhuimin/anaconda3/lib/python3.6/site-packages/numpy/lib/arraysetops.py:463: FutureWarning: elementwise comparison failed; returning scalar instead, but in the future will perform elementwise comparison\n",
      "  mask |= (ar1 == a)\n"
     ]
    }
   ],
   "source": [
    "# expected values\n",
    "for i in range (10):\n",
    "    name='busi_exp'+str(i)\n",
    "    name=pd.read_csv('/Users/xuhuimin/Documents/lab/lab data/beijingmobile/dateexample/node.csv',index_col=0,names=['user_id','busi_name'])\n",
    "    numpy.random.shuffle(name['busi_name'].values)\n",
    "    users=name['user_id'].drop_duplicates()\n",
    "    groups=name.groupby('user_id')\n",
    "    \n",
    "    path='/Users/xuhuimin/Documents/lab/lab data/beijingmobile/dateexample/expected_value/'\n",
    "    f=path+'busi_exp'+str(i)+'.csv'\n",
    "\n",
    "    for user in users:\n",
    "        userdata=groups.get_group(user)\n",
    "        userdata=userdata.drop_duplicates()\n",
    "\n",
    "        busi_list=userdata['busi_name'].values\n",
    "        pair=list(itertools.combinations(busi_list,2))\n",
    "        busi_exp=pd.DataFrame(pair)\n",
    "        busi_exp.to_csv(f,header=0,mode='a+')\n",
    "\n",
    "    busi_exp=pd.read_csv(f,names=['node1','node2'])   \n",
    "    busi_exp['pair']=busi_exp['node1'].astype('str')+' '+busi_exp['node2'].astype('str')\n",
    "    counterdict=Counter(busi_exp['pair'].values)\n",
    "    counterdict=pd.DataFrame(list(counterdict.items()),columns=['pair','busi_obs'])\n",
    "    counterdict.to_csv(f,header=0,mode='w')"
   ]
  },
  {
   "cell_type": "code",
   "execution_count": null,
   "metadata": {
    "collapsed": true
   },
   "outputs": [],
   "source": [
    "# z_score\n",
    "files=glob('/home/sysadmin/swimming/beijingmobile/busi_exp/*')\n",
    "\n",
    "for f in files:\n",
    "    name=f.split('/')[-1].split('.')[0]\n",
    "    data=pd.read_csv(f,names=['pair','count'])\n",
    "    diction=dict(book_data[['pair','count']].values)\n",
    "    \n",
    "\n",
    "    z_score=pd.read_csv('/Users/xuhuimin/Documents/lab/lab data/beijingmobile/z_score.csv',index_col=0)\n",
    "    z_score[name]=z_score['pair'].apply(lambda x: diction[x]\n",
    "                                                    if x in diction\n",
    "                                                    else np.nan)\n",
    "    z_score.to_csv('/Users/xuhuimin/Documents/lab/lab data/beijingmobile/z_score.csv')"
   ]
  }
 ],
 "metadata": {
  "kernelspec": {
   "display_name": "Python 3",
   "language": "python",
   "name": "python3"
  },
  "language_info": {
   "codemirror_mode": {
    "name": "ipython",
    "version": 3
   },
   "file_extension": ".py",
   "mimetype": "text/x-python",
   "name": "python",
   "nbconvert_exporter": "python",
   "pygments_lexer": "ipython3",
   "version": "3.6.2"
  }
 },
 "nbformat": 4,
 "nbformat_minor": 2
}
